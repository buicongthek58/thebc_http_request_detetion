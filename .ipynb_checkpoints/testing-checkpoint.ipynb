{
 "cells": [
  {
   "cell_type": "code",
   "execution_count": 1,
   "metadata": {},
   "outputs": [],
   "source": [
    "from __future__ import print_function\n",
    "from __future__ import absolute_import\n",
    "from __future__ import division\n",
    "import os\n",
    "import numpy as np\n",
    "import tensorflow as tf\n",
    "import matplotlib.pyplot as plt\n",
    "import timeit\n",
    "\n",
    "from colorama import Fore\n",
    "from sklearn.metrics import auc, roc_curve, precision_score, recall_score"
   ]
  },
  {
   "cell_type": "code",
   "execution_count": 2,
   "metadata": {},
   "outputs": [],
   "source": [
    "from utils.vocab import Vocabulary\n",
    "from utils.reader import Data\n",
    "from utils.utils import print_progress, create_checkpoints_dir"
   ]
  },
  {
   "cell_type": "code",
   "execution_count": 3,
   "metadata": {},
   "outputs": [
    {
     "name": "stdout",
     "output_type": "stream",
     "text": [
      "Downloaded 21991 samples\n"
     ]
    }
   ],
   "source": [
    "params = {\n",
    "    \"batch_size\": 128,\n",
    "    \"embed_size\": 64,\n",
    "    \"hidden_size\": 64,\n",
    "    \"num_layers\": 2,\n",
    "    \"checkpoints\": \"./checkpoints/\",\n",
    "    \"std_factor\": 6.,\n",
    "    \"dropout\": 0.7,\n",
    "}\n",
    "\n",
    "path_normal_data = \"datasets/vulnbank_train.txt\"\n",
    "path_anomaly_data = \"datasets/vulnbank_anomaly.txt\"\n",
    "\n",
    "# create_checkpoints_dir(params[\"checkpoints\"])\n",
    "\n",
    "vocab = Vocabulary()\n",
    "params[\"vocab\"] = vocab\n",
    "\n",
    "d = Data(path_normal_data)"
   ]
  },
  {
   "cell_type": "code",
   "execution_count": 4,
   "metadata": {},
   "outputs": [],
   "source": [
    "class Predictor():\n",
    "    def __init__(self, checkpoints_path, std_factor, vocab):\n",
    "\n",
    "        self.threshold = 0.\n",
    "        self.checkpoints = checkpoints_path\n",
    "        self.path_to_graph = checkpoints_path + 'seq2seq'\n",
    "        self.std_factor = std_factor\n",
    "        self.vocab = vocab\n",
    "        self.__load()\n",
    "\n",
    "    def __load(self):\n",
    "        \"\"\"\n",
    "        Loads model from the checkpoint directory and sets models params.\n",
    "        \"\"\"\n",
    "        try:\n",
    "            loaded_graph = tf.Graph()\n",
    "            with loaded_graph.as_default():\n",
    "                saver = tf.train.import_meta_graph(\n",
    "                    self.path_to_graph + '.meta')\n",
    "\n",
    "            self.sess = tf.Session(graph=loaded_graph)\n",
    "            saver.restore(self.sess, tf.train.latest_checkpoint(\n",
    "                self.checkpoints))\n",
    "\n",
    "            # loading model parameters\n",
    "            self.inputs = loaded_graph.get_tensor_by_name('inputs:0')\n",
    "            self.targets = loaded_graph.get_tensor_by_name('targets:0')\n",
    "            self.lengths = loaded_graph.get_tensor_by_name('lengths:0')\n",
    "            self.dropout = loaded_graph.get_tensor_by_name('dropout:0')\n",
    "            self.batch_size_tensor = loaded_graph.get_tensor_by_name('batch_size:0')\n",
    "            self.seq_len_tensor = loaded_graph.get_tensor_by_name('max_seq_len:0')\n",
    "            self.get_batch_loss = loaded_graph.get_tensor_by_name('batch_loss:0')\n",
    "            self.get_probabilities = loaded_graph.get_tensor_by_name('probs:0')\n",
    "            self.get_logits = loaded_graph.get_tensor_by_name('logits:0')\n",
    "\n",
    "        except Exception as e:\n",
    "            raise ValueError('Unable to create model: {}'.format(e))\n",
    "\n",
    "    def set_threshold(self, data_gen):\n",
    "        \"\"\"\n",
    "        Calculates threshold for anomaly detection.\n",
    "        \"\"\"\n",
    "\n",
    "        total_loss = []\n",
    "        for seq, l in data_gen:\n",
    "            batch_loss, _ = self._predict_for_request(seq, l)\n",
    "            total_loss.extend(batch_loss)\n",
    "\n",
    "        mean = np.mean(total_loss)\n",
    "        std = np.std(total_loss)\n",
    "        self.threshold = mean + self.std_factor * std\n",
    "\n",
    "        print('Validation loss mean: ', mean)\n",
    "        print('Validation loss std: ', std)\n",
    "        print('Threshold for anomaly detection: ', self.threshold)\n",
    "\n",
    "        return self.threshold\n",
    "\n",
    "    def predict(self, data_gen, visual=True):\n",
    "        \"\"\"\n",
    "        Predicts probabilities and loss for given sequences.\n",
    "        \"\"\"\n",
    "        loss = []\n",
    "        predictions = []\n",
    "        num_displayed = 0\n",
    "\n",
    "        for seq, l in data_gen:\n",
    "            batch_loss, alphas = self._predict_for_request(seq, l)\n",
    "            loss.extend(batch_loss)\n",
    "            alphas = self._process_alphas(seq, alphas, 1)\n",
    "            mask = np.array([l > self.threshold for l in batch_loss])\n",
    "            final_pred = mask.astype(int)\n",
    "            predictions.extend(final_pred)\n",
    "\n",
    "            if visual and num_displayed < 10 and final_pred == [1]:\n",
    "                print('\\n\\nPrediction: ', final_pred[0])\n",
    "                print('Loss ', batch_loss[0])\n",
    "\n",
    "                num_displayed += 1\n",
    "                self._visual(alphas, seq)\n",
    "\n",
    "        return predictions, loss\n",
    "\n",
    "    def _predict_for_request(self, X, l):\n",
    "        \"\"\"\n",
    "        Predicts probabilities and loss for given data.\n",
    "        \"\"\"\n",
    "        lengths = [l]\n",
    "        max_seq_len = l\n",
    "        feed_dict = {\n",
    "            self.inputs: X,\n",
    "            self.targets: X,\n",
    "            self.lengths: lengths,\n",
    "            self.dropout: 1.0,\n",
    "            self.batch_size_tensor: 1,\n",
    "            self.seq_len_tensor: max_seq_len}\n",
    "\n",
    "        fetches = [self.get_batch_loss, self.get_probabilities]\n",
    "        batch_loss, alphas = self.sess.run(fetches, feed_dict=feed_dict)\n",
    "\n",
    "        return batch_loss, alphas\n",
    "\n",
    "    def _process_alphas(self, X, alphas, batch_size):\n",
    "        \"\"\"\n",
    "        Counts numbers as probabilities for given data sample.\n",
    "        \"\"\"\n",
    "        processed_alphas = []\n",
    "        for i in range(batch_size):\n",
    "            probs = alphas[i]\n",
    "            coefs = np.array([probs[j][X[i][j]] for j in range(len(X[i]))])\n",
    "            coefs = coefs / coefs.max()\n",
    "            processed_alphas.append(coefs)\n",
    "\n",
    "        return processed_alphas\n",
    "\n",
    "    def _visual(self, alphas, X):\n",
    "        \"\"\"\n",
    "        Colors sequence of malicious characters.\n",
    "        \"\"\"\n",
    "        for i, x in enumerate(X):\n",
    "            coefs = alphas[i]\n",
    "            tokens = self.vocab.int_to_string(x)\n",
    "\n",
    "            for j in range(len(x)):\n",
    "                token = tokens[j]\n",
    "                if coefs[j] < 0.09:\n",
    "                    c = Fore.GREEN\n",
    "                else:\n",
    "                    c = Fore.BLACK\n",
    "                if token != '<PAD>' and token != '<EOS>':\n",
    "                    token = c + token.decode(\"utf-8\")\n",
    "                    print(token, end='')\n",
    "                    pass\n",
    "\n",
    "            print(Fore.BLACK + '', end='')"
   ]
  },
  {
   "cell_type": "code",
   "execution_count": 5,
   "metadata": {},
   "outputs": [
    {
     "name": "stdout",
     "output_type": "stream",
     "text": [
      "INFO:tensorflow:Restoring parameters from ./checkpoints/seq2seq-5163\n"
     ]
    }
   ],
   "source": [
    "p = Predictor(params[\"checkpoints\"], params[\"std_factor\"], params[\"vocab\"])"
   ]
  },
  {
   "cell_type": "code",
   "execution_count": 6,
   "metadata": {},
   "outputs": [
    {
     "name": "stdout",
     "output_type": "stream",
     "text": [
      "Validation loss mean:  0.07124889\n",
      "Validation loss std:  0.099326834\n",
      "Threshold for anomaly detection:  0.6672098934650421\n"
     ]
    }
   ],
   "source": [
    "val_gen = d.val_generator()\n",
    "threshold = p.set_threshold(val_gen)"
   ]
  },
  {
   "cell_type": "code",
   "execution_count": 7,
   "metadata": {},
   "outputs": [
    {
     "name": "stdout",
     "output_type": "stream",
     "text": [
      "\n",
      "\n",
      "Prediction:  1\n",
      "Loss  1.0210298\n",
      "\u001b[30mG\u001b[30mE\u001b[30mT\u001b[30m \u001b[30m/\u001b[30mv\u001b[30mu\u001b[30ml\u001b[30mn\u001b[30mb\u001b[30ma\u001b[30mn\u001b[30mk\u001b[30m/\u001b[30ma\u001b[32ms\u001b[32ms\u001b[32me\u001b[30mt\u001b[32ms\u001b[30m/\u001b[32mf\u001b[30mo\u001b[30mn\u001b[32mt\u001b[32ms\u001b[30m/\u001b[32mf\u001b[30mo\u001b[30mn\u001b[30mt\u001b[32ma\u001b[32mw\u001b[32me\u001b[30ms\u001b[32mo\u001b[32mm\u001b[32me\u001b[32m-\u001b[32mw\u001b[32me\u001b[32mb\u001b[32mf\u001b[32mo\u001b[32mn\u001b[32mt\u001b[32m.\u001b[32mw\u001b[32mo\u001b[32mf\u001b[32mf\u001b[32m?\u001b[32mv\u001b[32m=\u001b[32m4\u001b[32m.\u001b[32m2\u001b[32m.\u001b[32m0\u001b[32m \u001b[32mH\u001b[30mT\u001b[30mT\u001b[30mP\u001b[30m/\u001b[30m1\u001b[30m.\u001b[30m1\u001b[30m\n",
      "\u001b[30mH\u001b[30mo\u001b[30ms\u001b[30mt\u001b[30m:\u001b[30m \u001b[30m1\u001b[30m0\u001b[30m.\u001b[30m0\u001b[30m.\u001b[30m2\u001b[30m1\u001b[30m2\u001b[30m.\u001b[30m2\u001b[30m5\u001b[30m\n",
      "\u001b[30mC\u001b[30mo\u001b[30mn\u001b[30mn\u001b[30me\u001b[30mc\u001b[30mt\u001b[30mi\u001b[30mo\u001b[30mn\u001b[30m:\u001b[30m \u001b[32mk\u001b[30me\u001b[30me\u001b[32mp\u001b[30m-\u001b[32ma\u001b[30ml\u001b[30mi\u001b[32mv\u001b[30me\u001b[30m\n",
      "\u001b[32mO\u001b[32mr\u001b[30mi\u001b[30mg\u001b[30mi\u001b[30mn\u001b[30m:\u001b[30m \u001b[30mh\u001b[30mt\u001b[30mt\u001b[30mp\u001b[30m:\u001b[30m/\u001b[30m/\u001b[30m1\u001b[30m0\u001b[30m.\u001b[30m0\u001b[30m.\u001b[30m2\u001b[30m1\u001b[30m2\u001b[30m.\u001b[30m2\u001b[30m5\u001b[30m\n",
      "\u001b[32mU\u001b[30ms\u001b[30me\u001b[30mr\u001b[30m-\u001b[30mA\u001b[30mg\u001b[30me\u001b[30mn\u001b[30mt\u001b[30m:\u001b[30m \u001b[30mM\u001b[30mo\u001b[30mz\u001b[30mi\u001b[30ml\u001b[30ml\u001b[30ma\u001b[30m/\u001b[30m5\u001b[30m.\u001b[30m0\u001b[30m \u001b[30m(\u001b[32mX\u001b[30m1\u001b[30m1\u001b[30m;\u001b[30m \u001b[30mL\u001b[30mi\u001b[30mn\u001b[30mu\u001b[30mx\u001b[30m \u001b[30mx\u001b[30m8\u001b[30m6\u001b[30m_\u001b[30m6\u001b[30m4\u001b[30m)\u001b[30m \u001b[30mA\u001b[30mp\u001b[30mp\u001b[30ml\u001b[30me\u001b[30mW\u001b[30me\u001b[30mb\u001b[30mK\u001b[30mi\u001b[30mt\u001b[30m/\u001b[30m5\u001b[30m3\u001b[30m7\u001b[30m.\u001b[30m3\u001b[30m6\u001b[30m \u001b[30m(\u001b[30mK\u001b[30mH\u001b[30mT\u001b[30mM\u001b[30mL\u001b[30m,\u001b[30m \u001b[30ml\u001b[30mi\u001b[30mk\u001b[30me\u001b[30m \u001b[30mG\u001b[30me\u001b[30mc\u001b[30mk\u001b[30mo\u001b[30m)\u001b[30m \u001b[30mC\u001b[30mh\u001b[30mr\u001b[30mo\u001b[30mm\u001b[30me\u001b[30m/\u001b[30m6\u001b[30m4\u001b[30m.\u001b[30m0\u001b[30m.\u001b[30m3\u001b[30m2\u001b[30m8\u001b[30m2\u001b[30m.\u001b[30m1\u001b[30m8\u001b[30m6\u001b[30m \u001b[30mS\u001b[30ma\u001b[30mf\u001b[30ma\u001b[30mr\u001b[30mi\u001b[30m/\u001b[30m5\u001b[30m3\u001b[30m7\u001b[30m.\u001b[30m3\u001b[30m6\u001b[30m\n",
      "\u001b[32mA\u001b[30mc\u001b[30mc\u001b[30me\u001b[30mp\u001b[30mt\u001b[30m:\u001b[30m \u001b[32m*\u001b[30m/\u001b[32m*\u001b[32m\n",
      "\u001b[32mR\u001b[30me\u001b[30mf\u001b[30me\u001b[30mr\u001b[30me\u001b[30mr\u001b[30m:\u001b[30m \u001b[30mh\u001b[30mt\u001b[30mt\u001b[30mp\u001b[30m:\u001b[30m/\u001b[30m/\u001b[30m1\u001b[30m0\u001b[30m.\u001b[30m0\u001b[30m.\u001b[30m2\u001b[30m1\u001b[30m2\u001b[30m.\u001b[30m2\u001b[30m5\u001b[30m/\u001b[30mv\u001b[30mu\u001b[30ml\u001b[30mn\u001b[30mb\u001b[30ma\u001b[30mn\u001b[30mk\u001b[30m/\u001b[32ma\u001b[32ms\u001b[32ms\u001b[32me\u001b[32mt\u001b[32ms\u001b[32m/\u001b[32mc\u001b[30ms\u001b[30ms\u001b[30m/\u001b[32mf\u001b[30mo\u001b[30mn\u001b[32mt\u001b[32m-\u001b[32ma\u001b[32mw\u001b[30me\u001b[30ms\u001b[32mo\u001b[32mm\u001b[30me\u001b[32m.\u001b[32mm\u001b[32mi\u001b[32mn\u001b[30m.\u001b[30mc\u001b[32ms\u001b[32ms\u001b[30m\n",
      "\u001b[32mA\u001b[30mc\u001b[30mc\u001b[30me\u001b[30mp\u001b[30mt\u001b[30m-\u001b[30mE\u001b[30mn\u001b[30mc\u001b[30mo\u001b[30md\u001b[30mi\u001b[30mn\u001b[30mg\u001b[30m:\u001b[30m \u001b[30mg\u001b[30mz\u001b[30mi\u001b[30mp\u001b[30m,\u001b[30m \u001b[30md\u001b[30me\u001b[30mf\u001b[30ml\u001b[30ma\u001b[30mt\u001b[30me\u001b[30m\n",
      "\u001b[30mA\u001b[30mc\u001b[30mc\u001b[30me\u001b[30mp\u001b[30mt\u001b[30m-\u001b[30mL\u001b[30ma\u001b[30mn\u001b[30mg\u001b[30mu\u001b[30ma\u001b[30mg\u001b[30me\u001b[30m:\u001b[30m \u001b[30me\u001b[30mn\u001b[30m-\u001b[30mU\u001b[30mS\u001b[30m,\u001b[30me\u001b[30mn\u001b[30m;\u001b[30mq\u001b[30m=\u001b[30m0\u001b[30m.\u001b[30m9\u001b[30m\n",
      "\u001b[30mC\u001b[30mo\u001b[30mo\u001b[30mk\u001b[30mi\u001b[30me\u001b[30m:\u001b[30m \u001b[30mP\u001b[30mH\u001b[30mP\u001b[30mS\u001b[30mE\u001b[30mS\u001b[30mS\u001b[30mI\u001b[30mD\u001b[30m=\u001b[32mj\u001b[30m1\u001b[32mp\u001b[30ma\u001b[30mv\u001b[32mg\u001b[30ml\u001b[30mp\u001b[30m5\u001b[30mu\u001b[30me\u001b[30m3\u001b[30m0\u001b[30m2\u001b[30m6\u001b[30m6\u001b[32mc\u001b[30m0\u001b[32mj\u001b[30m8\u001b[30m8\u001b[30mg\u001b[30me\u001b[30md\u001b[30m3\u001b[30m0\u001b[30m<EOS>\u001b[30m\n",
      "\n",
      "Prediction:  1\n",
      "Loss  0.74015313\n",
      "\u001b[30mP\u001b[30mO\u001b[30mS\u001b[30mT\u001b[30m \u001b[30m/\u001b[30mv\u001b[30mu\u001b[30ml\u001b[30mn\u001b[30mb\u001b[30ma\u001b[30mn\u001b[30mk\u001b[30m/\u001b[30mo\u001b[30mn\u001b[30ml\u001b[30mi\u001b[30mn\u001b[30me\u001b[30m/\u001b[30ma\u001b[30mp\u001b[30mi\u001b[30m.\u001b[30mp\u001b[30mh\u001b[30mp\u001b[30m \u001b[30mH\u001b[30mT\u001b[30mT\u001b[30mP\u001b[30m/\u001b[30m1\u001b[30m.\u001b[30m1\u001b[30m\n",
      "\u001b[30mH\u001b[30mo\u001b[30ms\u001b[30mt\u001b[30m:\u001b[30m \u001b[30m1\u001b[30m0\u001b[30m.\u001b[30m0\u001b[30m.\u001b[30m2\u001b[30m1\u001b[30m2\u001b[30m.\u001b[30m2\u001b[30m5\u001b[30m\n",
      "\u001b[32mU\u001b[30ms\u001b[30me\u001b[30mr\u001b[30m-\u001b[30mA\u001b[30mg\u001b[30me\u001b[30mn\u001b[30mt\u001b[30m:\u001b[30m \u001b[32m\n",
      "\u001b[32mA\u001b[30mc\u001b[30mc\u001b[30me\u001b[30mp\u001b[30mt\u001b[30m:\u001b[30m \u001b[30ma\u001b[30mp\u001b[30mp\u001b[30ml\u001b[30mi\u001b[30mc\u001b[30ma\u001b[30mt\u001b[30mi\u001b[30mo\u001b[30mn\u001b[30m/\u001b[30mj\u001b[30ms\u001b[30mo\u001b[30mn\u001b[30m,\u001b[30m \u001b[30mt\u001b[30me\u001b[30mx\u001b[30mt\u001b[30m/\u001b[30mj\u001b[30ma\u001b[30mv\u001b[30ma\u001b[30ms\u001b[30mc\u001b[30mr\u001b[30mi\u001b[30mp\u001b[30mt\u001b[30m,\u001b[30m \u001b[30m*\u001b[30m/\u001b[30m*\u001b[30m;\u001b[30m \u001b[30mq\u001b[30m=\u001b[30m0\u001b[30m.\u001b[30m0\u001b[30m1\u001b[30m\n",
      "\u001b[32mA\u001b[30mc\u001b[30mc\u001b[30me\u001b[30mp\u001b[30mt\u001b[30m-\u001b[30mL\u001b[30ma\u001b[30mn\u001b[30mg\u001b[30mu\u001b[30ma\u001b[30mg\u001b[30me\u001b[30m:\u001b[30m \u001b[30me\u001b[30mn\u001b[30m-\u001b[30mU\u001b[30mS\u001b[30m,\u001b[30me\u001b[30mn\u001b[30m;\u001b[30mq\u001b[30m=\u001b[30m0\u001b[30m.\u001b[30m5\u001b[30m\n",
      "\u001b[30mA\u001b[30mc\u001b[30mc\u001b[30me\u001b[30mp\u001b[30mt\u001b[30m-\u001b[30mE\u001b[30mn\u001b[30mc\u001b[30mo\u001b[30md\u001b[30mi\u001b[30mn\u001b[30mg\u001b[30m:\u001b[30m \u001b[30mg\u001b[30mz\u001b[30mi\u001b[30mp\u001b[30m,\u001b[30m \u001b[30md\u001b[30me\u001b[30mf\u001b[30ml\u001b[30ma\u001b[30mt\u001b[30me\u001b[30m\n",
      "\u001b[30mR\u001b[30me\u001b[30mf\u001b[30me\u001b[30mr\u001b[30me\u001b[30mr\u001b[30m:\u001b[30m \u001b[30mh\u001b[30mt\u001b[30mt\u001b[30mp\u001b[30m:\u001b[30m/\u001b[30m/\u001b[30m1\u001b[30m0\u001b[30m.\u001b[30m0\u001b[30m.\u001b[30m2\u001b[30m1\u001b[30m2\u001b[30m.\u001b[30m2\u001b[30m5\u001b[30m/\u001b[30mv\u001b[30mu\u001b[30ml\u001b[30mn\u001b[30mb\u001b[30ma\u001b[30mn\u001b[30mk\u001b[30m/\u001b[30mo\u001b[30mn\u001b[30ml\u001b[30mi\u001b[30mn\u001b[30me\u001b[30m/\u001b[32ml\u001b[30mo\u001b[30mg\u001b[30mi\u001b[30mn\u001b[30m.\u001b[30mp\u001b[30mh\u001b[30mp\u001b[30m\n",
      "\u001b[30mC\u001b[30mo\u001b[30mn\u001b[30mt\u001b[30me\u001b[30mn\u001b[30mt\u001b[30m-\u001b[30mT\u001b[30my\u001b[30mp\u001b[30me\u001b[30m:\u001b[30m \u001b[30ma\u001b[30mp\u001b[30mp\u001b[30ml\u001b[30mi\u001b[30mc\u001b[30ma\u001b[30mt\u001b[30mi\u001b[30mo\u001b[30mn\u001b[30m/\u001b[30mx\u001b[30m-\u001b[30mw\u001b[30mw\u001b[30mw\u001b[30m-\u001b[30mf\u001b[30mo\u001b[30mr\u001b[30mm\u001b[30m-\u001b[30mu\u001b[30mr\u001b[30ml\u001b[30me\u001b[30mn\u001b[30mc\u001b[30mo\u001b[30md\u001b[30me\u001b[30md\u001b[30m\n",
      "\u001b[30mX\u001b[30m-\u001b[30mR\u001b[30me\u001b[30mq\u001b[30mu\u001b[30me\u001b[30ms\u001b[30mt\u001b[30me\u001b[30md\u001b[30m-\u001b[30mW\u001b[30mi\u001b[30mt\u001b[30mh\u001b[30m:\u001b[30m \u001b[30mX\u001b[30mM\u001b[30mL\u001b[30mH\u001b[30mt\u001b[30mt\u001b[30mp\u001b[30mR\u001b[30me\u001b[30mq\u001b[30mu\u001b[30me\u001b[30ms\u001b[30mt\u001b[30m\n",
      "\u001b[30mC\u001b[30mo\u001b[30mn\u001b[30mt\u001b[30me\u001b[30mn\u001b[30mt\u001b[30m-\u001b[30mL\u001b[30me\u001b[30mn\u001b[30mg\u001b[30mt\u001b[30mh\u001b[30m:\u001b[30m \u001b[30m5\u001b[30m6\u001b[30m\n",
      "\u001b[30mC\u001b[30mo\u001b[30mo\u001b[30mk\u001b[30mi\u001b[30me\u001b[30m:\u001b[30m \u001b[30mP\u001b[30mH\u001b[30mP\u001b[30mS\u001b[30mE\u001b[30mS\u001b[30mS\u001b[30mI\u001b[30mD\u001b[30m=\u001b[32m8\u001b[32m6\u001b[32m5\u001b[30mc\u001b[32m0\u001b[32mc\u001b[32m0\u001b[32mb\u001b[32m4\u001b[32ma\u001b[32mb\u001b[32m0\u001b[32me\u001b[32m0\u001b[30m6\u001b[30m3\u001b[32me\u001b[30m5\u001b[32mc\u001b[32ma\u001b[32ma\u001b[30m3\u001b[30m3\u001b[32m8\u001b[32m7\u001b[32mc\u001b[32m\n",
      "\u001b[32mC\u001b[30mo\u001b[30mn\u001b[32mn\u001b[30me\u001b[30mc\u001b[30mt\u001b[30mi\u001b[30mo\u001b[30mn\u001b[30m:\u001b[30m \u001b[30mc\u001b[30ml\u001b[30mo\u001b[30ms\u001b[30me\u001b[30m\n",
      "\u001b[30m\n",
      "\u001b[30mt\u001b[30my\u001b[30mp\u001b[30me\u001b[30m=\u001b[30mu\u001b[30ms\u001b[30me\u001b[30mr\u001b[30m&\u001b[30ma\u001b[30mc\u001b[30mt\u001b[30mi\u001b[30mo\u001b[30mn\u001b[30m=\u001b[32ml\u001b[30mo\u001b[30mg\u001b[30mi\u001b[30mn\u001b[30m&\u001b[30mu\u001b[30ms\u001b[30me\u001b[30mr\u001b[30mn\u001b[30ma\u001b[30mm\u001b[30me\u001b[30m=\u001b[32mv\u001b[32m.\u001b[32mp\u001b[32mo\u001b[30mt\u001b[32me\u001b[32ma\u001b[32mt\u001b[32m&\u001b[32mp\u001b[32ma\u001b[30ms\u001b[30ms\u001b[32mw\u001b[30mo\u001b[30mr\u001b[30md\u001b[32m=\u001b[32mI\u001b[32mA\u001b[32mo\u001b[32m!\u001b[32m0\u001b[32mE\u001b[32m<EOS>\u001b[30m\n",
      "\n",
      "Prediction:  1\n",
      "Loss  2.0520513\n",
      "\u001b[30mG\u001b[30mE\u001b[30mT\u001b[30m \u001b[30m/\u001b[30mv\u001b[30mu\u001b[30ml\u001b[30mn\u001b[30mb\u001b[30ma\u001b[30mn\u001b[30mk\u001b[30m/\u001b[32ma\u001b[32ms\u001b[32ms\u001b[32me\u001b[30mt\u001b[32ms\u001b[30m/\u001b[32mf\u001b[30mo\u001b[30mn\u001b[32mt\u001b[32ms\u001b[30m/\u001b[32mf\u001b[32mo\u001b[30mn\u001b[30mt\u001b[32ma\u001b[32mw\u001b[32me\u001b[30ms\u001b[32mo\u001b[32mm\u001b[32me\u001b[32m-\u001b[32mw\u001b[32me\u001b[32mb\u001b[32mf\u001b[32mo\u001b[32mn\u001b[32mt\u001b[32m.\u001b[32mw\u001b[32mo\u001b[32mf\u001b[32mf\u001b[32m?\u001b[32mv\u001b[32m=\u001b[32m4\u001b[32m.\u001b[32m2\u001b[32m.\u001b[32m0\u001b[32m \u001b[32mH\u001b[30mT\u001b[30mT\u001b[30mP\u001b[30m/\u001b[30m1\u001b[30m.\u001b[30m1\u001b[30m\n",
      "\u001b[30mH\u001b[30mo\u001b[30ms\u001b[30mt\u001b[30m:\u001b[30m \u001b[30m1\u001b[30m0\u001b[30m.\u001b[30m0\u001b[30m.\u001b[30m2\u001b[30m1\u001b[30m2\u001b[30m.\u001b[30m2\u001b[30m5\u001b[30m\n",
      "\u001b[32mU\u001b[30ms\u001b[30me\u001b[30mr\u001b[30m-\u001b[30mA\u001b[30mg\u001b[30me\u001b[30mn\u001b[30mt\u001b[30m:\u001b[30m \u001b[30mM\u001b[30mo\u001b[30mz\u001b[30mi\u001b[30ml\u001b[30ml\u001b[30ma\u001b[30m/\u001b[30m5\u001b[30m.\u001b[30m0\u001b[30m \u001b[30m(\u001b[32mX\u001b[30m1\u001b[30m1\u001b[30m;\u001b[30m \u001b[32mU\u001b[30mb\u001b[30mu\u001b[30mn\u001b[30mt\u001b[30mu\u001b[30m;\u001b[30m \u001b[30mL\u001b[30mi\u001b[30mn\u001b[30mu\u001b[30mx\u001b[30m \u001b[30mx\u001b[30m8\u001b[30m6\u001b[30m_\u001b[30m6\u001b[30m4\u001b[30m;\u001b[30m \u001b[30mr\u001b[30mv\u001b[30m:\u001b[30m5\u001b[32m9\u001b[30m.\u001b[30m0\u001b[30m)\u001b[30m \u001b[30mG\u001b[30me\u001b[30mc\u001b[30mk\u001b[30mo\u001b[30m/\u001b[30m2\u001b[30m0\u001b[30m1\u001b[30m0\u001b[30m0\u001b[30m1\u001b[30m0\u001b[30m1\u001b[30m \u001b[30mF\u001b[30mi\u001b[30mr\u001b[30me\u001b[30mf\u001b[30mo\u001b[30mx\u001b[30m/\u001b[30m5\u001b[32m9\u001b[30m.\u001b[30m0\u001b[30m\n",
      "\u001b[30mA\u001b[30mc\u001b[30mc\u001b[30me\u001b[30mp\u001b[30mt\u001b[30m:\u001b[30m \u001b[30ma\u001b[30mp\u001b[30mp\u001b[30ml\u001b[30mi\u001b[30mc\u001b[30ma\u001b[30mt\u001b[30mi\u001b[30mo\u001b[30mn\u001b[30m/\u001b[32mf\u001b[32mo\u001b[32mn\u001b[32mt\u001b[32m-\u001b[32mw\u001b[32mo\u001b[32mf\u001b[32mf\u001b[32m2\u001b[32m;\u001b[32mq\u001b[30m=\u001b[32m1\u001b[30m.\u001b[32m0\u001b[32m,\u001b[32ma\u001b[32mp\u001b[32mp\u001b[32ml\u001b[32mi\u001b[32mc\u001b[32ma\u001b[32mt\u001b[32mi\u001b[32mo\u001b[32mn\u001b[32m/\u001b[32mf\u001b[32mo\u001b[32mn\u001b[32mt\u001b[32m-\u001b[32mw\u001b[32mo\u001b[32mf\u001b[32mf\u001b[32m;\u001b[32mq\u001b[30m=\u001b[30m0\u001b[32m.\u001b[32m9\u001b[32m,\u001b[32m*\u001b[32m/\u001b[32m*\u001b[32m;\u001b[30mq\u001b[30m=\u001b[30m0\u001b[30m.\u001b[30m8\u001b[30m\n",
      "\u001b[32mA\u001b[30mc\u001b[30mc\u001b[30me\u001b[30mp\u001b[30mt\u001b[30m-\u001b[30mL\u001b[30ma\u001b[30mn\u001b[30mg\u001b[30mu\u001b[30ma\u001b[30mg\u001b[30me\u001b[30m:\u001b[30m \u001b[30me\u001b[30mn\u001b[30m-\u001b[30mU\u001b[30mS\u001b[30m,\u001b[30me\u001b[30mn\u001b[30m;\u001b[30mq\u001b[30m=\u001b[30m0\u001b[30m.\u001b[32m5\u001b[30m\n",
      "\u001b[32mA\u001b[30mc\u001b[30mc\u001b[30me\u001b[30mp\u001b[30mt\u001b[30m-\u001b[32mE\u001b[30mn\u001b[30mc\u001b[30mo\u001b[30md\u001b[30mi\u001b[30mn\u001b[30mg\u001b[30m:\u001b[30m \u001b[32mi\u001b[32md\u001b[32me\u001b[32mn\u001b[32mt\u001b[32mi\u001b[32mt\u001b[32my\u001b[32m\n",
      "\u001b[32mR\u001b[30me\u001b[30mf\u001b[30me\u001b[30mr\u001b[30me\u001b[30mr\u001b[30m:\u001b[30m \u001b[30mh\u001b[30mt\u001b[30mt\u001b[30mp\u001b[30m:\u001b[30m/\u001b[30m/\u001b[30m1\u001b[30m0\u001b[30m.\u001b[30m0\u001b[30m.\u001b[30m2\u001b[30m1\u001b[30m2\u001b[30m.\u001b[30m2\u001b[30m5\u001b[30m/\u001b[30mv\u001b[30mu\u001b[30ml\u001b[30mn\u001b[30mb\u001b[30ma\u001b[30mn\u001b[30mk\u001b[30m/\u001b[32ma\u001b[32ms\u001b[32ms\u001b[32me\u001b[32mt\u001b[32ms\u001b[32m/\u001b[32mc\u001b[30ms\u001b[32ms\u001b[30m/\u001b[32mf\u001b[30mo\u001b[30mn\u001b[32mt\u001b[32m-\u001b[32ma\u001b[32mw\u001b[30me\u001b[30ms\u001b[32mo\u001b[32mm\u001b[30me\u001b[32m.\u001b[32mm\u001b[32mi\u001b[32mn\u001b[30m.\u001b[30mc\u001b[32ms\u001b[32ms\u001b[30m\n",
      "\u001b[32mC\u001b[30mo\u001b[30mo\u001b[32mk\u001b[30mi\u001b[30me\u001b[30m:\u001b[30m \u001b[30mP\u001b[30mH\u001b[30mP\u001b[30mS\u001b[30mE\u001b[30mS\u001b[30mS\u001b[30mI\u001b[30mD\u001b[30m=\u001b[32mc\u001b[32mh\u001b[32m1\u001b[32mu\u001b[32mp\u001b[32mt\u001b[32m4\u001b[30ml\u001b[32mk\u001b[32m9\u001b[32mo\u001b[32mn\u001b[32mm\u001b[32m6\u001b[30me\u001b[32m2\u001b[32m6\u001b[30ml\u001b[32mo\u001b[32m4\u001b[32ml\u001b[32mk\u001b[32mc\u001b[30m8\u001b[32m9\u001b[30m3\u001b[30m\n"
     ]
    },
    {
     "name": "stdout",
     "output_type": "stream",
     "text": [
      "\u001b[32mC\u001b[30mo\u001b[30mn\u001b[32mn\u001b[30me\u001b[30mc\u001b[30mt\u001b[30mi\u001b[30mo\u001b[30mn\u001b[30m:\u001b[30m \u001b[32mk\u001b[30me\u001b[30me\u001b[32mp\u001b[32m-\u001b[32ma\u001b[30ml\u001b[30mi\u001b[32mv\u001b[30me\u001b[32m<EOS>\u001b[30m\n",
      "\n",
      "Prediction:  1\n",
      "Loss  1.0742682\n",
      "\u001b[30mG\u001b[30mE\u001b[30mT\u001b[30m \u001b[30m/\u001b[30mv\u001b[30mu\u001b[30ml\u001b[30mn\u001b[30mb\u001b[30ma\u001b[30mn\u001b[30mk\u001b[30m/\u001b[30ma\u001b[32ms\u001b[30ms\u001b[32me\u001b[30mt\u001b[32ms\u001b[30m/\u001b[32mf\u001b[30mo\u001b[30mn\u001b[32mt\u001b[32ms\u001b[30m/\u001b[32mg\u001b[32ml\u001b[32my\u001b[32mp\u001b[32mh\u001b[32mi\u001b[32mc\u001b[32mo\u001b[32mn\u001b[32ms\u001b[32m-\u001b[32mh\u001b[32ma\u001b[32ml\u001b[32mf\u001b[32ml\u001b[32mi\u001b[32mn\u001b[32mg\u001b[32ms\u001b[32m-\u001b[32mr\u001b[32me\u001b[32mg\u001b[32mu\u001b[32ml\u001b[32ma\u001b[30mr\u001b[32m.\u001b[32mw\u001b[32mo\u001b[32mf\u001b[32mf\u001b[32m2\u001b[32m \u001b[32mH\u001b[30mT\u001b[30mT\u001b[30mP\u001b[30m/\u001b[30m1\u001b[30m.\u001b[32m1\u001b[30m\n",
      "\u001b[30mH\u001b[30mo\u001b[30ms\u001b[30mt\u001b[30m:\u001b[30m \u001b[30m1\u001b[30m0\u001b[30m.\u001b[30m0\u001b[30m.\u001b[30m2\u001b[30m1\u001b[30m2\u001b[30m.\u001b[30m2\u001b[30m5\u001b[30m\n",
      "\u001b[30mC\u001b[30mo\u001b[30mn\u001b[30mn\u001b[30me\u001b[30mc\u001b[30mt\u001b[30mi\u001b[30mo\u001b[30mn\u001b[30m:\u001b[30m \u001b[32mk\u001b[30me\u001b[30me\u001b[32mp\u001b[30m-\u001b[32ma\u001b[30ml\u001b[30mi\u001b[32mv\u001b[30me\u001b[30m\n",
      "\u001b[32mO\u001b[32mr\u001b[30mi\u001b[30mg\u001b[30mi\u001b[30mn\u001b[30m:\u001b[30m \u001b[30mh\u001b[30mt\u001b[30mt\u001b[30mp\u001b[30m:\u001b[30m/\u001b[30m/\u001b[30m1\u001b[30m0\u001b[30m.\u001b[30m0\u001b[30m.\u001b[30m2\u001b[30m1\u001b[30m2\u001b[30m.\u001b[30m2\u001b[30m5\u001b[30m\n",
      "\u001b[32mU\u001b[30ms\u001b[30me\u001b[30mr\u001b[30m-\u001b[30mA\u001b[30mg\u001b[30me\u001b[30mn\u001b[30mt\u001b[30m:\u001b[30m \u001b[30mM\u001b[30mo\u001b[30mz\u001b[30mi\u001b[30ml\u001b[30ml\u001b[30ma\u001b[30m/\u001b[30m5\u001b[30m.\u001b[30m0\u001b[30m \u001b[30m(\u001b[32mX\u001b[30m1\u001b[30m1\u001b[30m;\u001b[30m \u001b[30mL\u001b[30mi\u001b[30mn\u001b[30mu\u001b[30mx\u001b[30m \u001b[30mx\u001b[30m8\u001b[30m6\u001b[30m_\u001b[30m6\u001b[30m4\u001b[30m)\u001b[30m \u001b[30mA\u001b[30mp\u001b[30mp\u001b[30ml\u001b[30me\u001b[30mW\u001b[30me\u001b[30mb\u001b[30mK\u001b[30mi\u001b[30mt\u001b[30m/\u001b[30m5\u001b[30m3\u001b[30m7\u001b[30m.\u001b[30m3\u001b[30m6\u001b[30m \u001b[30m(\u001b[30mK\u001b[30mH\u001b[30mT\u001b[30mM\u001b[30mL\u001b[30m,\u001b[30m \u001b[30ml\u001b[30mi\u001b[30mk\u001b[30me\u001b[30m \u001b[30mG\u001b[30me\u001b[30mc\u001b[30mk\u001b[30mo\u001b[30m)\u001b[30m \u001b[30mC\u001b[30mh\u001b[30mr\u001b[30mo\u001b[30mm\u001b[30me\u001b[30m/\u001b[30m6\u001b[30m4\u001b[30m.\u001b[30m0\u001b[30m.\u001b[30m3\u001b[30m2\u001b[30m8\u001b[30m2\u001b[30m.\u001b[30m1\u001b[30m8\u001b[30m6\u001b[30m \u001b[30mS\u001b[30ma\u001b[30mf\u001b[30ma\u001b[30mr\u001b[30mi\u001b[30m/\u001b[30m5\u001b[30m3\u001b[30m7\u001b[30m.\u001b[30m3\u001b[30m6\u001b[30m\n",
      "\u001b[32mA\u001b[30mc\u001b[30mc\u001b[30me\u001b[30mp\u001b[30mt\u001b[30m:\u001b[30m \u001b[32m*\u001b[30m/\u001b[32m*\u001b[32m\n",
      "\u001b[32mR\u001b[30me\u001b[30mf\u001b[30me\u001b[30mr\u001b[30me\u001b[30mr\u001b[30m:\u001b[30m \u001b[30mh\u001b[30mt\u001b[30mt\u001b[30mp\u001b[30m:\u001b[30m/\u001b[30m/\u001b[30m1\u001b[30m0\u001b[30m.\u001b[30m0\u001b[30m.\u001b[30m2\u001b[30m1\u001b[30m2\u001b[30m.\u001b[30m2\u001b[30m5\u001b[30m/\u001b[30mv\u001b[30mu\u001b[30ml\u001b[30mn\u001b[30mb\u001b[30ma\u001b[30mn\u001b[30mk\u001b[30m/\u001b[32ma\u001b[32ms\u001b[32ms\u001b[32me\u001b[32mt\u001b[32ms\u001b[32m/\u001b[32mc\u001b[30ms\u001b[30ms\u001b[30m/\u001b[32mb\u001b[32mo\u001b[32mo\u001b[32mt\u001b[30ms\u001b[32mt\u001b[32mr\u001b[32ma\u001b[32mp\u001b[32m.\u001b[32mm\u001b[32mi\u001b[32mn\u001b[32m.\u001b[30mc\u001b[32ms\u001b[32ms\u001b[32m\n",
      "\u001b[30mA\u001b[30mc\u001b[30mc\u001b[30me\u001b[30mp\u001b[30mt\u001b[30m-\u001b[30mE\u001b[30mn\u001b[30mc\u001b[30mo\u001b[30md\u001b[30mi\u001b[30mn\u001b[30mg\u001b[30m:\u001b[30m \u001b[30mg\u001b[30mz\u001b[30mi\u001b[30mp\u001b[30m,\u001b[30m \u001b[30md\u001b[30me\u001b[30mf\u001b[30ml\u001b[30ma\u001b[30mt\u001b[30me\u001b[30m\n",
      "\u001b[30mA\u001b[30mc\u001b[30mc\u001b[30me\u001b[30mp\u001b[30mt\u001b[30m-\u001b[30mL\u001b[30ma\u001b[30mn\u001b[30mg\u001b[30mu\u001b[30ma\u001b[30mg\u001b[30me\u001b[30m:\u001b[30m \u001b[30me\u001b[30mn\u001b[30m-\u001b[30mU\u001b[30mS\u001b[30m,\u001b[30me\u001b[30mn\u001b[30m;\u001b[30mq\u001b[30m=\u001b[30m0\u001b[30m.\u001b[30m9\u001b[30m\n",
      "\u001b[30mC\u001b[30mo\u001b[30mo\u001b[30mk\u001b[30mi\u001b[30me\u001b[30m:\u001b[30m \u001b[30mP\u001b[30mH\u001b[30mP\u001b[30mS\u001b[30mE\u001b[30mS\u001b[30mS\u001b[30mI\u001b[30mD\u001b[30m=\u001b[32mj\u001b[30m1\u001b[32mp\u001b[30ma\u001b[30mv\u001b[32mg\u001b[30ml\u001b[30mp\u001b[30m5\u001b[30mu\u001b[30me\u001b[30m3\u001b[30m0\u001b[30m2\u001b[30m6\u001b[30m6\u001b[32mc\u001b[30m0\u001b[32mj\u001b[30m8\u001b[30m8\u001b[30mg\u001b[30me\u001b[30md\u001b[30m3\u001b[30m0\u001b[30m<EOS>\u001b[30m\n",
      "\n",
      "Prediction:  1\n",
      "Loss  1.3001384\n",
      "\u001b[30mP\u001b[30mO\u001b[30mS\u001b[30mT\u001b[30m \u001b[30m/\u001b[30mv\u001b[30mu\u001b[30ml\u001b[30mn\u001b[30mb\u001b[30ma\u001b[30mn\u001b[30mk\u001b[30m/\u001b[30mo\u001b[30mn\u001b[30ml\u001b[30mi\u001b[30mn\u001b[30me\u001b[30m/\u001b[30ma\u001b[30mp\u001b[30mi\u001b[30m.\u001b[30mp\u001b[30mh\u001b[30mp\u001b[30m \u001b[30mH\u001b[30mT\u001b[30mT\u001b[30mP\u001b[30m/\u001b[30m1\u001b[30m.\u001b[30m1\u001b[30m\n",
      "\u001b[30mH\u001b[30mo\u001b[30ms\u001b[30mt\u001b[30m:\u001b[30m \u001b[30m1\u001b[30m0\u001b[30m.\u001b[30m0\u001b[30m.\u001b[30m2\u001b[30m1\u001b[30m2\u001b[30m.\u001b[30m2\u001b[30m5\u001b[30m\n",
      "\u001b[32mU\u001b[30ms\u001b[30me\u001b[30mr\u001b[30m-\u001b[30mA\u001b[30mg\u001b[30me\u001b[30mn\u001b[30mt\u001b[30m:\u001b[30m \u001b[30mM\u001b[30mo\u001b[30mz\u001b[30mi\u001b[30ml\u001b[30ml\u001b[30ma\u001b[30m/\u001b[30m5\u001b[30m.\u001b[30m0\u001b[30m \u001b[30m(\u001b[32mX\u001b[30m1\u001b[30m1\u001b[30m;\u001b[30m \u001b[32mU\u001b[30mb\u001b[30mu\u001b[30mn\u001b[30mt\u001b[30mu\u001b[30m;\u001b[30m \u001b[30mL\u001b[30mi\u001b[30mn\u001b[30mu\u001b[30mx\u001b[30m \u001b[30mx\u001b[30m8\u001b[30m6\u001b[30m_\u001b[30m6\u001b[30m4\u001b[30m;\u001b[30m \u001b[30mr\u001b[30mv\u001b[30m:\u001b[30m5\u001b[32m9\u001b[30m.\u001b[30m0\u001b[30m)\u001b[30m \u001b[30mG\u001b[30me\u001b[30mc\u001b[30mk\u001b[30mo\u001b[30m/\u001b[30m2\u001b[30m0\u001b[30m1\u001b[30m0\u001b[30m0\u001b[30m1\u001b[30m0\u001b[30m1\u001b[30m \u001b[30mF\u001b[30mi\u001b[30mr\u001b[30me\u001b[30mf\u001b[30mo\u001b[30mx\u001b[30m/\u001b[30m5\u001b[32m9\u001b[30m.\u001b[30m0\u001b[30m\n",
      "\u001b[30mA\u001b[30mc\u001b[30mc\u001b[30me\u001b[30mp\u001b[30mt\u001b[30m:\u001b[30m \u001b[30ma\u001b[30mp\u001b[30mp\u001b[30ml\u001b[30mi\u001b[30mc\u001b[30ma\u001b[30mt\u001b[30mi\u001b[30mo\u001b[30mn\u001b[30m/\u001b[30mj\u001b[30ms\u001b[30mo\u001b[30mn\u001b[30m,\u001b[30m \u001b[30mt\u001b[30me\u001b[30mx\u001b[30mt\u001b[30m/\u001b[30mj\u001b[30ma\u001b[30mv\u001b[30ma\u001b[30ms\u001b[30mc\u001b[30mr\u001b[30mi\u001b[30mp\u001b[30mt\u001b[30m,\u001b[30m \u001b[30m*\u001b[30m/\u001b[30m*\u001b[30m;\u001b[30m \u001b[30mq\u001b[30m=\u001b[30m0\u001b[30m.\u001b[30m0\u001b[30m1\u001b[30m\n",
      "\u001b[32mA\u001b[30mc\u001b[30mc\u001b[30me\u001b[30mp\u001b[30mt\u001b[30m-\u001b[30mL\u001b[30ma\u001b[30mn\u001b[30mg\u001b[30mu\u001b[30ma\u001b[30mg\u001b[30me\u001b[30m:\u001b[30m \u001b[30me\u001b[30mn\u001b[30m-\u001b[30mU\u001b[30mS\u001b[30m,\u001b[30me\u001b[30mn\u001b[30m;\u001b[30mq\u001b[30m=\u001b[30m0\u001b[30m.\u001b[30m5\u001b[30m\n",
      "\u001b[30mA\u001b[30mc\u001b[30mc\u001b[30me\u001b[30mp\u001b[30mt\u001b[30m-\u001b[30mE\u001b[30mn\u001b[30mc\u001b[30mo\u001b[30md\u001b[30mi\u001b[30mn\u001b[30mg\u001b[30m:\u001b[30m \u001b[30mg\u001b[30mz\u001b[30mi\u001b[30mp\u001b[30m,\u001b[30m \u001b[30md\u001b[30me\u001b[30mf\u001b[30ml\u001b[30ma\u001b[30mt\u001b[30me\u001b[30m\n",
      "\u001b[30mR\u001b[30me\u001b[30mf\u001b[30me\u001b[30mr\u001b[30me\u001b[30mr\u001b[30m:\u001b[30m \u001b[30mh\u001b[30mt\u001b[30mt\u001b[30mp\u001b[30m:\u001b[30m/\u001b[30m/\u001b[30m1\u001b[30m0\u001b[30m.\u001b[30m0\u001b[30m.\u001b[30m2\u001b[30m1\u001b[30m2\u001b[30m.\u001b[30m2\u001b[30m5\u001b[30m/\u001b[30mv\u001b[30mu\u001b[30ml\u001b[30mn\u001b[30mb\u001b[30ma\u001b[30mn\u001b[30mk\u001b[30m/\u001b[30mo\u001b[30mn\u001b[30ml\u001b[30mi\u001b[30mn\u001b[30me\u001b[30m/\u001b[32ml\u001b[30mo\u001b[30mg\u001b[30mi\u001b[30mn\u001b[30m.\u001b[30mp\u001b[30mh\u001b[30mp\u001b[30m\n",
      "\u001b[30mC\u001b[30mo\u001b[30mn\u001b[30mt\u001b[30me\u001b[30mn\u001b[30mt\u001b[30m-\u001b[30mT\u001b[30my\u001b[30mp\u001b[30me\u001b[30m:\u001b[30m \u001b[30ma\u001b[30mp\u001b[30mp\u001b[30ml\u001b[30mi\u001b[30mc\u001b[30ma\u001b[30mt\u001b[30mi\u001b[30mo\u001b[30mn\u001b[30m/\u001b[30mx\u001b[30m-\u001b[30mw\u001b[30mw\u001b[30mw\u001b[30m-\u001b[30mf\u001b[30mo\u001b[30mr\u001b[30mm\u001b[30m-\u001b[30mu\u001b[30mr\u001b[30ml\u001b[30me\u001b[30mn\u001b[30mc\u001b[30mo\u001b[30md\u001b[30me\u001b[30md\u001b[32m;\u001b[32m \u001b[30mc\u001b[32mh\u001b[32ma\u001b[30mr\u001b[30ms\u001b[30me\u001b[30mt\u001b[30m=\u001b[30mU\u001b[30mT\u001b[30mF\u001b[30m-\u001b[30m8\u001b[30m\n",
      "\u001b[32mX\u001b[30m-\u001b[30mR\u001b[30me\u001b[30mq\u001b[30mu\u001b[30me\u001b[30ms\u001b[30mt\u001b[30me\u001b[30md\u001b[30m-\u001b[30mW\u001b[30mi\u001b[30mt\u001b[30mh\u001b[30m:\u001b[30m \u001b[30mX\u001b[30mM\u001b[30mL\u001b[30mH\u001b[30mt\u001b[30mt\u001b[30mp\u001b[30mR\u001b[30me\u001b[30mq\u001b[30mu\u001b[30me\u001b[30ms\u001b[30mt\u001b[30m\n",
      "\u001b[32mC\u001b[30mo\u001b[30mn\u001b[30mt\u001b[30me\u001b[30mn\u001b[30mt\u001b[30m-\u001b[30mL\u001b[30me\u001b[30mn\u001b[30mg\u001b[30mt\u001b[30mh\u001b[30m:\u001b[30m \u001b[32m2\u001b[32m0\u001b[32m1\u001b[30m\n",
      "\u001b[30mC\u001b[30mo\u001b[30mo\u001b[30mk\u001b[30mi\u001b[30me\u001b[30m:\u001b[30m \u001b[30mP\u001b[30mH\u001b[30mP\u001b[30mS\u001b[30mE\u001b[30mS\u001b[30mS\u001b[30mI\u001b[30mD\u001b[30m=\u001b[32m0\u001b[32m4\u001b[32m6\u001b[30mc\u001b[32mh\u001b[30mc\u001b[30mb\u001b[32mv\u001b[32m0\u001b[30me\u001b[32mf\u001b[32mu\u001b[32m8\u001b[32mn\u001b[30md\u001b[32ml\u001b[32m7\u001b[32m1\u001b[30mb\u001b[30m2\u001b[32mn\u001b[30mb\u001b[32m1\u001b[32mt\u001b[32md\u001b[32m6\u001b[32m\n",
      "\u001b[32mC\u001b[30mo\u001b[30mn\u001b[32mn\u001b[30me\u001b[30mc\u001b[30mt\u001b[30mi\u001b[30mo\u001b[30mn\u001b[30m:\u001b[30m \u001b[30mk\u001b[30me\u001b[30me\u001b[32mp\u001b[30m-\u001b[32ma\u001b[30ml\u001b[30mi\u001b[32mv\u001b[30me\u001b[30m\n",
      "\u001b[30m\n",
      "\u001b[30mt\u001b[30my\u001b[30mp\u001b[30me\u001b[30m=\u001b[30mu\u001b[30ms\u001b[30me\u001b[30mr\u001b[30m&\u001b[30ma\u001b[30mc\u001b[30mt\u001b[30mi\u001b[30mo\u001b[30mn\u001b[30m=\u001b[30mc\u001b[32mr\u001b[32me\u001b[32ma\u001b[32mt\u001b[32me\u001b[32m&\u001b[32mu\u001b[30ms\u001b[30me\u001b[30mr\u001b[30mn\u001b[30ma\u001b[30mm\u001b[30me\u001b[30m=\u001b[32ms\u001b[32mm\u001b[32mt\u001b[32mh\u001b[32m&\u001b[32mp\u001b[32ma\u001b[30ms\u001b[30ms\u001b[32mw\u001b[30mo\u001b[30mr\u001b[30md\u001b[30m=\u001b[32mk\u001b[32mk\u001b[32mk\u001b[32m&\u001b[32mf\u001b[32mi\u001b[30mr\u001b[30ms\u001b[30mt\u001b[30mn\u001b[30ma\u001b[30mm\u001b[30me\u001b[30m=\u001b[32ms\u001b[32mm\u001b[32mt\u001b[32mh\u001b[32m&\u001b[30ml\u001b[30ma\u001b[30ms\u001b[30mt\u001b[30mn\u001b[30ma\u001b[30mm\u001b[30me\u001b[30m=\u001b[32ms\u001b[32mq\u001b[32mq\u001b[32mq\u001b[32m&\u001b[32mb\u001b[32mi\u001b[32mr\u001b[30mt\u001b[32mh\u001b[32md\u001b[32ma\u001b[30mt\u001b[30me\u001b[30m=\u001b[32m0\u001b[32m5\u001b[32m-\u001b[32m1\u001b[32m2\u001b[32m-\u001b[32m2\u001b[30m0\u001b[32m1\u001b[32m7\u001b[32m&\u001b[30me\u001b[32mm\u001b[32ma\u001b[32mi\u001b[32ml\u001b[32m=\u001b[30ms\u001b[32mm\u001b[32m%\u001b[32m4\u001b[32m0\u001b[30mm\u001b[32ma\u001b[32mi\u001b[32ml\u001b[32m.\u001b[30mc\u001b[30mo\u001b[30mm\u001b[32m&\u001b[32mp\u001b[32mh\u001b[32mo\u001b[32mn\u001b[30me\u001b[30m=\u001b[32m6\u001b[32m4\u001b[32m6\u001b[30m4\u001b[32m5\u001b[30m4\u001b[30m6\u001b[30m4\u001b[32m7\u001b[30m6\u001b[32m5\u001b[30m3\u001b[32m&\u001b[32ma\u001b[30mc\u001b[30mc\u001b[32mo\u001b[32mu\u001b[30mn\u001b[30mt\u001b[32m=\u001b[32mD\u001b[32mE\u001b[32m9\u001b[32m4\u001b[32m4\u001b[32m3\u001b[32m8\u001b[30m6\u001b[30m5\u001b[32m8\u001b[30m1\u001b[32m1\u001b[30m8\u001b[32m6\u001b[32m1\u001b[32m5\u001b[32m1\u001b[32m6\u001b[32m2\u001b[32m6\u001b[32m6\u001b[30m4\u001b[32m&\u001b[30mc\u001b[30mr\u001b[30me\u001b[30md\u001b[30mi\u001b[30mt\u001b[30mc\u001b[30ma\u001b[30mr\u001b[30md\u001b[30m=\u001b[32m4\u001b[30m5\u001b[30m5\u001b[30m6\u001b[32m-\u001b[32m3\u001b[32m9\u001b[30m1\u001b[30m4\u001b[30m-\u001b[30m2\u001b[32m4\u001b[32m4\u001b[30m2\u001b[32m-\u001b[32m4\u001b[32m6\u001b[30m9\u001b[32m0\u001b[32m<EOS>\u001b[30m\n",
      "\n",
      "Prediction:  1\n",
      "Loss  0.6714712\n",
      "\u001b[30mP\u001b[30mO\u001b[30mS\u001b[30mT\u001b[30m \u001b[30m/\u001b[30mv\u001b[30mu\u001b[30ml\u001b[30mn\u001b[30mb\u001b[30ma\u001b[30mn\u001b[30mk\u001b[30m/\u001b[30mo\u001b[30mn\u001b[30ml\u001b[30mi\u001b[30mn\u001b[30me\u001b[30m/\u001b[30ma\u001b[30mp\u001b[30mi\u001b[30m.\u001b[30mp\u001b[30mh\u001b[30mp\u001b[30m \u001b[30mH\u001b[30mT\u001b[30mT\u001b[30mP\u001b[30m/\u001b[30m1\u001b[30m.\u001b[30m1\u001b[30m\n",
      "\u001b[30mH\u001b[30mo\u001b[30ms\u001b[30mt\u001b[30m:\u001b[30m \u001b[30m1\u001b[30m0\u001b[30m.\u001b[30m0\u001b[30m.\u001b[30m2\u001b[30m1\u001b[30m2\u001b[30m.\u001b[30m2\u001b[30m5\u001b[30m\n",
      "\u001b[32mU\u001b[30ms\u001b[30me\u001b[30mr\u001b[30m-\u001b[30mA\u001b[30mg\u001b[30me\u001b[30mn\u001b[30mt\u001b[30m:\u001b[30m \u001b[30mM\u001b[30mo\u001b[30mz\u001b[30mi\u001b[30ml\u001b[30ml\u001b[30ma\u001b[30m/\u001b[30m5\u001b[30m.\u001b[30m0\u001b[30m \u001b[30m(\u001b[32mX\u001b[30m1\u001b[30m1\u001b[30m;\u001b[30m \u001b[32mU\u001b[30mb\u001b[30mu\u001b[30mn\u001b[30mt\u001b[30mu\u001b[30m;\u001b[30m \u001b[30mL\u001b[30mi\u001b[30mn\u001b[30mu\u001b[30mx\u001b[30m \u001b[30mx\u001b[30m8\u001b[30m6\u001b[30m_\u001b[30m6\u001b[30m4\u001b[30m;\u001b[30m \u001b[30mr\u001b[30mv\u001b[30m:\u001b[30m5\u001b[32m9\u001b[30m.\u001b[30m0\u001b[30m)\u001b[30m \u001b[30mG\u001b[30me\u001b[30mc\u001b[30mk\u001b[30mo\u001b[30m/\u001b[30m2\u001b[30m0\u001b[30m1\u001b[30m0\u001b[30m0\u001b[30m1\u001b[30m0\u001b[30m1\u001b[30m \u001b[30mF\u001b[30mi\u001b[30mr\u001b[30me\u001b[30mf\u001b[30mo\u001b[30mx\u001b[30m/\u001b[30m5\u001b[32m9\u001b[30m.\u001b[30m0\u001b[30m\n",
      "\u001b[30mA\u001b[30mc\u001b[30mc\u001b[30me\u001b[30mp\u001b[30mt\u001b[30m:\u001b[30m \u001b[30ma\u001b[30mp\u001b[30mp\u001b[30ml\u001b[30mi\u001b[30mc\u001b[30ma\u001b[30mt\u001b[30mi\u001b[30mo\u001b[30mn\u001b[30m/\u001b[30mj\u001b[30ms\u001b[30mo\u001b[30mn\u001b[30m,\u001b[30m \u001b[30mt\u001b[30me\u001b[30mx\u001b[30mt\u001b[30m/\u001b[30mj\u001b[30ma\u001b[30mv\u001b[30ma\u001b[30ms\u001b[30mc\u001b[30mr\u001b[30mi\u001b[30mp\u001b[30mt\u001b[30m,\u001b[30m \u001b[30m*\u001b[30m/\u001b[30m*\u001b[30m;\u001b[30m \u001b[30mq\u001b[30m=\u001b[30m0\u001b[30m.\u001b[30m0\u001b[30m1\u001b[30m\n",
      "\u001b[32mA\u001b[30mc\u001b[30mc\u001b[30me\u001b[30mp\u001b[30mt\u001b[30m-\u001b[30mL\u001b[30ma\u001b[30mn\u001b[30mg\u001b[30mu\u001b[30ma\u001b[30mg\u001b[30me\u001b[30m:\u001b[30m \u001b[30me\u001b[30mn\u001b[30m-\u001b[30mU\u001b[30mS\u001b[30m,\u001b[30me\u001b[30mn\u001b[30m;\u001b[30mq\u001b[30m=\u001b[30m0\u001b[30m.\u001b[30m5\u001b[30m\n",
      "\u001b[30mA\u001b[30mc\u001b[30mc\u001b[30me\u001b[30mp\u001b[30mt\u001b[30m-\u001b[30mE\u001b[30mn\u001b[30mc\u001b[30mo\u001b[30md\u001b[30mi\u001b[30mn\u001b[30mg\u001b[30m:\u001b[30m \u001b[30mg\u001b[30mz\u001b[30mi\u001b[30mp\u001b[30m,\u001b[30m \u001b[30md\u001b[30me\u001b[30mf\u001b[30ml\u001b[30ma\u001b[30mt\u001b[30me\u001b[30m\n",
      "\u001b[30mR\u001b[30me\u001b[30mf\u001b[30me\u001b[30mr\u001b[30me\u001b[30mr\u001b[30m:\u001b[30m \u001b[30mh\u001b[30mt\u001b[30mt\u001b[30mp\u001b[30m:\u001b[30m/\u001b[30m/\u001b[30m1\u001b[30m0\u001b[30m.\u001b[30m0\u001b[30m.\u001b[30m2\u001b[30m1\u001b[30m2\u001b[30m.\u001b[30m2\u001b[30m5\u001b[30m/\u001b[30mv\u001b[30mu\u001b[30ml\u001b[30mn\u001b[30mb\u001b[30ma\u001b[30mn\u001b[30mk\u001b[30m/\u001b[30mo\u001b[30mn\u001b[30ml\u001b[30mi\u001b[30mn\u001b[30me\u001b[30m/\u001b[30mt\u001b[30mr\u001b[30ma\u001b[30mn\u001b[30ms\u001b[30ma\u001b[30mc\u001b[30mt\u001b[30mi\u001b[30mo\u001b[30mn\u001b[30ms\u001b[30m.\u001b[30mp\u001b[30mh\u001b[30mp\u001b[30m\n",
      "\u001b[32mC\u001b[30mo\u001b[30mn\u001b[30mt\u001b[30me\u001b[30mn\u001b[30mt\u001b[30m-\u001b[30mT\u001b[30my\u001b[30mp\u001b[30me\u001b[30m:\u001b[30m \u001b[30ma\u001b[30mp\u001b[30mp\u001b[30ml\u001b[30mi\u001b[30mc\u001b[30ma\u001b[30mt\u001b[30mi\u001b[30mo\u001b[30mn\u001b[30m/\u001b[30mx\u001b[30m-\u001b[30mw\u001b[30mw\u001b[30mw\u001b[30m-\u001b[30mf\u001b[30mo\u001b[30mr\u001b[30mm\u001b[30m-\u001b[30mu\u001b[30mr\u001b[30ml\u001b[30me\u001b[30mn\u001b[30mc\u001b[30mo\u001b[30md\u001b[30me\u001b[30md\u001b[30m;\u001b[30m \u001b[30mc\u001b[30mh\u001b[30ma\u001b[30mr\u001b[30ms\u001b[30me\u001b[30mt\u001b[30m=\u001b[30mU\u001b[30mT\u001b[30mF\u001b[30m-\u001b[30m8\u001b[30m\n",
      "\u001b[32mX\u001b[30m-\u001b[30mR\u001b[30me\u001b[30mq\u001b[30mu\u001b[30me\u001b[30ms\u001b[30mt\u001b[30me\u001b[30md\u001b[30m-\u001b[30mW\u001b[30mi\u001b[30mt\u001b[30mh\u001b[30m:\u001b[30m \u001b[30mX\u001b[30mM\u001b[30mL\u001b[30mH\u001b[30mt\u001b[30mt\u001b[30mp\u001b[30mR\u001b[30me\u001b[30mq\u001b[30mu\u001b[30me\u001b[30ms\u001b[30mt\u001b[30m\n",
      "\u001b[30mC\u001b[30mo\u001b[30mn\u001b[30mt\u001b[30me\u001b[30mn\u001b[30mt\u001b[30m-\u001b[30mL\u001b[30me\u001b[30mn\u001b[30mg\u001b[30mt\u001b[30mh\u001b[30m:\u001b[30m \u001b[30m1\u001b[32m0\u001b[32m7\u001b[30m\n",
      "\u001b[30mC\u001b[30mo\u001b[32mo\u001b[30mk\u001b[30mi\u001b[30me\u001b[30m:\u001b[30m \u001b[30mP\u001b[30mH\u001b[30mP\u001b[30mS\u001b[30mE\u001b[30mS\u001b[30mS\u001b[30mI\u001b[30mD\u001b[30m=\u001b[30mc\u001b[32mh\u001b[32m1\u001b[32mu\u001b[32mp\u001b[32mt\u001b[32m4\u001b[30ml\u001b[32mk\u001b[32m9\u001b[32mo\u001b[32mn\u001b[32mm\u001b[32m6\u001b[30me\u001b[32m2\u001b[32m6\u001b[30ml\u001b[32mo\u001b[32m4\u001b[32ml\u001b[32mk\u001b[32mc\u001b[30m8\u001b[32m9\u001b[30m3\u001b[30m\n",
      "\u001b[32mC\u001b[30mo\u001b[30mn\u001b[32mn\u001b[30me\u001b[30mc\u001b[30mt\u001b[30mi\u001b[30mo\u001b[30mn\u001b[30m:\u001b[30m \u001b[32mk\u001b[30me\u001b[30me\u001b[32mp\u001b[32m-\u001b[32ma\u001b[30ml\u001b[30mi\u001b[32mv\u001b[30me\u001b[30m\n",
      "\u001b[30m\n",
      "\u001b[30mt\u001b[30my\u001b[30mp\u001b[30me\u001b[30m=\u001b[30mu\u001b[30ms\u001b[30me\u001b[30mr\u001b[30m&\u001b[30ma\u001b[30mc\u001b[30mt\u001b[30mi\u001b[30mo\u001b[30mn\u001b[30m=\u001b[30mc\u001b[30mh\u001b[30me\u001b[30mc\u001b[30mk\u001b[30m&\u001b[30mf\u001b[30mi\u001b[30mr\u001b[30ms\u001b[30mt\u001b[30mn\u001b[30ma\u001b[30mm\u001b[30me\u001b[30m=\u001b[32m&\u001b[30ml\u001b[30ma\u001b[30ms\u001b[30mt\u001b[30mn\u001b[30ma\u001b[30mm\u001b[30me\u001b[30m=\u001b[32m&\u001b[32mc\u001b[32mr\u001b[30me\u001b[30md\u001b[30mi\u001b[30mt\u001b[30mc\u001b[30ma\u001b[30mr\u001b[30md\u001b[30m=\u001b[32m1\u001b[30m2\u001b[32m3\u001b[32m4\u001b[30m-\u001b[32m6\u001b[30m5\u001b[30m7\u001b[32m9\u001b[30m-\u001b[32m3\u001b[30m5\u001b[30m1\u001b[32m4\u001b[30m-\u001b[32m6\u001b[32m4\u001b[32m7\u001b[32m5\u001b[30m&\u001b[32mr\u001b[30me\u001b[30mc\u001b[30mi\u001b[30mp\u001b[30mi\u001b[30me\u001b[30mn\u001b[30mt\u001b[30m=\u001b[30mD\u001b[30mE\u001b[30m1\u001b[30m1\u001b[30m1\u001b[30m1\u001b[30m1\u001b[32m6\u001b[32m5\u001b[32m6\u001b[32m5\u001b[32m6\u001b[30m7\u001b[32m4\u001b[32m7\u001b[32m4\u001b[30m7\u001b[32m8\u001b[32m3\u001b[32m8\u001b[32m3\u001b[32m8\u001b[32m<EOS>\u001b[30m"
     ]
    }
   ],
   "source": [
    "# Benign samples\n",
    "\n",
    "test_gen = d.test_generator()\n",
    "valid_preds, valid_loss = p.predict(test_gen)"
   ]
  },
  {
   "cell_type": "code",
   "execution_count": 8,
   "metadata": {},
   "outputs": [
    {
     "name": "stdout",
     "output_type": "stream",
     "text": [
      "Number of FP:  6\n",
      "Number of samples:  2200\n",
      "FP rate: 0.0027\n"
     ]
    }
   ],
   "source": [
    "print('Number of FP: ', np.sum(valid_preds))\n",
    "print('Number of samples: ', len(valid_preds))\n",
    "print('FP rate: {:.4f}'.format(np.sum(valid_preds) / len(valid_preds)))"
   ]
  },
  {
   "cell_type": "markdown",
   "metadata": {},
   "source": [
    "# Anomalous samples\n",
    "Here TP samples are showed and TP rate is computed."
   ]
  },
  {
   "cell_type": "code",
   "execution_count": 9,
   "metadata": {},
   "outputs": [
    {
     "name": "stdout",
     "output_type": "stream",
     "text": [
      "Downloaded 1097 samples\n",
      "\n",
      "\n",
      "Prediction:  1\n",
      "Loss  2.49534\n",
      "\u001b[30mP\u001b[30mO\u001b[30mS\u001b[30mT\u001b[30m \u001b[30m/\u001b[30mv\u001b[30mu\u001b[30ml\u001b[30mn\u001b[30mb\u001b[30ma\u001b[30mn\u001b[30mk\u001b[30m/\u001b[30mo\u001b[30mn\u001b[30ml\u001b[30mi\u001b[30mn\u001b[30me\u001b[30m/\u001b[30ma\u001b[30mp\u001b[30mi\u001b[30m.\u001b[30mp\u001b[30mh\u001b[30mp\u001b[30m \u001b[30mH\u001b[30mT\u001b[30mT\u001b[30mP\u001b[30m/\u001b[30m1\u001b[30m.\u001b[30m1\u001b[30m\n",
      "\u001b[30mH\u001b[30mo\u001b[30ms\u001b[30mt\u001b[30m:\u001b[30m \u001b[30m1\u001b[30m0\u001b[30m.\u001b[30m0\u001b[30m.\u001b[30m2\u001b[30m1\u001b[30m2\u001b[30m.\u001b[30m2\u001b[30m5\u001b[30m\n",
      "\u001b[32mU\u001b[30ms\u001b[30me\u001b[30mr\u001b[30m-\u001b[30mA\u001b[30mg\u001b[30me\u001b[30mn\u001b[30mt\u001b[30m:\u001b[30m \u001b[30mM\u001b[30mo\u001b[30mz\u001b[30mi\u001b[30ml\u001b[30ml\u001b[30ma\u001b[30m/\u001b[30m5\u001b[30m.\u001b[30m0\u001b[30m \u001b[30m(\u001b[32mX\u001b[30m1\u001b[30m1\u001b[30m;\u001b[30m \u001b[32mU\u001b[30mb\u001b[30mu\u001b[30mn\u001b[30mt\u001b[30mu\u001b[30m;\u001b[30m \u001b[30mL\u001b[30mi\u001b[30mn\u001b[30mu\u001b[30mx\u001b[30m \u001b[30mx\u001b[30m8\u001b[30m6\u001b[30m_\u001b[30m6\u001b[30m4\u001b[30m;\u001b[30m \u001b[30mr\u001b[30mv\u001b[30m:\u001b[30m5\u001b[32m9\u001b[30m.\u001b[30m0\u001b[30m)\u001b[30m \u001b[30mG\u001b[30me\u001b[30mc\u001b[30mk\u001b[30mo\u001b[30m/\u001b[30m2\u001b[30m0\u001b[30m1\u001b[30m0\u001b[30m0\u001b[30m1\u001b[30m0\u001b[30m1\u001b[30m \u001b[30mF\u001b[30mi\u001b[30mr\u001b[30me\u001b[30mf\u001b[30mo\u001b[30mx\u001b[30m/\u001b[30m5\u001b[32m9\u001b[30m.\u001b[30m0\u001b[30m\n",
      "\u001b[30mA\u001b[30mc\u001b[30mc\u001b[30me\u001b[30mp\u001b[30mt\u001b[30m:\u001b[30m \u001b[30ma\u001b[30mp\u001b[30mp\u001b[30ml\u001b[30mi\u001b[30mc\u001b[30ma\u001b[30mt\u001b[30mi\u001b[30mo\u001b[30mn\u001b[30m/\u001b[30mj\u001b[30ms\u001b[30mo\u001b[30mn\u001b[30m,\u001b[30m \u001b[30mt\u001b[30me\u001b[30mx\u001b[30mt\u001b[30m/\u001b[30mj\u001b[30ma\u001b[30mv\u001b[30ma\u001b[30ms\u001b[30mc\u001b[30mr\u001b[30mi\u001b[30mp\u001b[30mt\u001b[30m,\u001b[30m \u001b[30m*\u001b[30m/\u001b[30m*\u001b[30m;\u001b[30m \u001b[30mq\u001b[30m=\u001b[30m0\u001b[30m.\u001b[30m0\u001b[30m1\u001b[30m\n",
      "\u001b[32mA\u001b[30mc\u001b[30mc\u001b[30me\u001b[30mp\u001b[30mt\u001b[30m-\u001b[30mL\u001b[30ma\u001b[30mn\u001b[30mg\u001b[30mu\u001b[30ma\u001b[30mg\u001b[30me\u001b[30m:\u001b[30m \u001b[30me\u001b[30mn\u001b[30m-\u001b[30mU\u001b[30mS\u001b[30m,\u001b[30me\u001b[30mn\u001b[30m;\u001b[30mq\u001b[30m=\u001b[30m0\u001b[30m.\u001b[30m5\u001b[30m\n",
      "\u001b[30mA\u001b[30mc\u001b[30mc\u001b[30me\u001b[30mp\u001b[30mt\u001b[30m-\u001b[30mE\u001b[30mn\u001b[30mc\u001b[30mo\u001b[30md\u001b[30mi\u001b[30mn\u001b[30mg\u001b[30m:\u001b[30m \u001b[30mg\u001b[30mz\u001b[30mi\u001b[30mp\u001b[30m,\u001b[30m \u001b[30md\u001b[30me\u001b[30mf\u001b[30ml\u001b[30ma\u001b[30mt\u001b[30me\u001b[30m\n",
      "\u001b[30mR\u001b[30me\u001b[30mf\u001b[30me\u001b[30mr\u001b[30me\u001b[30mr\u001b[30m:\u001b[30m \u001b[30mh\u001b[30mt\u001b[30mt\u001b[30mp\u001b[30m:\u001b[30m/\u001b[30m/\u001b[30m1\u001b[30m0\u001b[30m.\u001b[30m0\u001b[30m.\u001b[30m2\u001b[30m1\u001b[30m2\u001b[30m.\u001b[30m2\u001b[30m5\u001b[30m/\u001b[30mv\u001b[30mu\u001b[30ml\u001b[30mn\u001b[30mb\u001b[30ma\u001b[30mn\u001b[30mk\u001b[30m/\u001b[30mo\u001b[30mn\u001b[30ml\u001b[30mi\u001b[30mn\u001b[30me\u001b[30m/\u001b[32ml\u001b[30mo\u001b[30mg\u001b[30mi\u001b[30mn\u001b[30m.\u001b[30mp\u001b[30mh\u001b[30mp\u001b[30m\n",
      "\u001b[30mC\u001b[30mo\u001b[30mn\u001b[30mt\u001b[30me\u001b[30mn\u001b[30mt\u001b[30m-\u001b[30mT\u001b[30my\u001b[30mp\u001b[30me\u001b[30m:\u001b[30m \u001b[30ma\u001b[30mp\u001b[30mp\u001b[30ml\u001b[30mi\u001b[30mc\u001b[30ma\u001b[30mt\u001b[30mi\u001b[30mo\u001b[30mn\u001b[30m/\u001b[30mx\u001b[30m-\u001b[30mw\u001b[30mw\u001b[30mw\u001b[30m-\u001b[30mf\u001b[30mo\u001b[30mr\u001b[30mm\u001b[30m-\u001b[30mu\u001b[30mr\u001b[30ml\u001b[30me\u001b[30mn\u001b[30mc\u001b[30mo\u001b[30md\u001b[30me\u001b[30md\u001b[32m;\u001b[32m \u001b[30mc\u001b[32mh\u001b[32ma\u001b[30mr\u001b[30ms\u001b[30me\u001b[30mt\u001b[30m=\u001b[30mU\u001b[30mT\u001b[30mF\u001b[30m-\u001b[30m8\u001b[30m\n",
      "\u001b[32mX\u001b[30m-\u001b[30mR\u001b[30me\u001b[30mq\u001b[30mu\u001b[30me\u001b[30ms\u001b[30mt\u001b[30me\u001b[30md\u001b[30m-\u001b[30mW\u001b[30mi\u001b[30mt\u001b[30mh\u001b[30m:\u001b[30m \u001b[30mX\u001b[30mM\u001b[30mL\u001b[30mH\u001b[30mt\u001b[30mt\u001b[30mp\u001b[30mR\u001b[30me\u001b[30mq\u001b[30mu\u001b[30me\u001b[30ms\u001b[30mt\u001b[30m\n",
      "\u001b[32mC\u001b[30mo\u001b[30mn\u001b[30mt\u001b[30me\u001b[30mn\u001b[30mt\u001b[30m-\u001b[30mL\u001b[30me\u001b[30mn\u001b[30mg\u001b[30mt\u001b[30mh\u001b[30m:\u001b[30m \u001b[32m2\u001b[32m0\u001b[32m9\u001b[30m\n",
      "\u001b[30mC\u001b[30mo\u001b[30mo\u001b[30mk\u001b[30mi\u001b[30me\u001b[30m:\u001b[30m \u001b[30mP\u001b[30mH\u001b[30mP\u001b[30mS\u001b[30mE\u001b[30mS\u001b[30mS\u001b[30mI\u001b[30mD\u001b[30m=\u001b[32mm\u001b[32ml\u001b[32ma\u001b[32mc\u001b[32ms\u001b[30m0\u001b[32mu\u001b[32mi\u001b[32mo\u001b[32mu\u001b[32m3\u001b[32m4\u001b[32m4\u001b[32mi\u001b[32m3\u001b[32mf\u001b[32ma\u001b[32m5\u001b[32m3\u001b[32ms\u001b[32m7\u001b[32mr\u001b[32ma\u001b[32mu\u001b[32mt\u001b[32m6\u001b[32m\n",
      "\u001b[32mC\u001b[30mo\u001b[30mn\u001b[32mn\u001b[30me\u001b[30mc\u001b[30mt\u001b[30mi\u001b[30mo\u001b[30mn\u001b[30m:\u001b[30m \u001b[32mk\u001b[30me\u001b[32me\u001b[32mp\u001b[32m-\u001b[32ma\u001b[30ml\u001b[30mi\u001b[32mv\u001b[30me\u001b[30m\n",
      "\u001b[32m\n",
      "\u001b[30mt\u001b[30my\u001b[30mp\u001b[30me\u001b[30m=\u001b[30mu\u001b[30ms\u001b[30me\u001b[30mr\u001b[30m&\u001b[30ma\u001b[30mc\u001b[30mt\u001b[30mi\u001b[30mo\u001b[30mn\u001b[30m=\u001b[30mc\u001b[32mr\u001b[32me\u001b[32ma\u001b[32mt\u001b[32me\u001b[32m&\u001b[32mu\u001b[30ms\u001b[30me\u001b[30mr\u001b[30mn\u001b[30ma\u001b[30mm\u001b[30me\u001b[30m=\u001b[32mJ\u001b[32ma\u001b[32mc\u001b[32mk\u001b[32m'\u001b[32m+\u001b[32ma\u001b[32mn\u001b[32md\u001b[32m+\u001b[32me\u001b[32mx\u001b[32mt\u001b[32mr\u001b[32ma\u001b[32mc\u001b[32mt\u001b[32mv\u001b[32ma\u001b[32ml\u001b[32mu\u001b[32me\u001b[32m(\u001b[32m0\u001b[32mx\u001b[32m0\u001b[32ma\u001b[32m,\u001b[32mc\u001b[30mo\u001b[32mn\u001b[32mc\u001b[32ma\u001b[32mt\u001b[32m(\u001b[32m0\u001b[32mx\u001b[32m0\u001b[32ma\u001b[32m,\u001b[32m(\u001b[32ms\u001b[32me\u001b[32ml\u001b[32me\u001b[32mc\u001b[32mt\u001b[32m \u001b[32mv\u001b[32me\u001b[32mr\u001b[32ms\u001b[32mi\u001b[32mo\u001b[32mn\u001b[32m(\u001b[32m)\u001b[32m)\u001b[32m)\u001b[32m)\u001b[32m+\u001b[32ma\u001b[32mn\u001b[32md\u001b[32m+\u001b[32m'\u001b[32m1\u001b[32m'\u001b[32m=\u001b[32m'\u001b[32m1\u001b[32m&\u001b[32mp\u001b[32ma\u001b[30ms\u001b[32ms\u001b[32mw\u001b[32mo\u001b[30mr\u001b[32md\u001b[30m=\u001b[32mp\u001b[32ma\u001b[32ms\u001b[32ms\u001b[32mw\u001b[32m0\u001b[32mr\u001b[32md\u001b[32m&\u001b[32mf\u001b[32mi\u001b[30mr\u001b[30ms\u001b[30mt\u001b[30mn\u001b[30ma\u001b[30mm\u001b[30me\u001b[32m=\u001b[32mf\u001b[30mi\u001b[32mr\u001b[32ms\u001b[32mt\u001b[30m&\u001b[30ml\u001b[30ma\u001b[32ms\u001b[30mt\u001b[30mn\u001b[30ma\u001b[30mm\u001b[30me\u001b[30m=\u001b[32ml\u001b[30ma\u001b[30ms\u001b[30mt\u001b[30m&\u001b[32mb\u001b[32mi\u001b[30mr\u001b[30mt\u001b[32mh\u001b[32md\u001b[30ma\u001b[32mt\u001b[32me\u001b[30m=\u001b[32m3\u001b[32m0\u001b[32m-\u001b[32m0\u001b[32m8\u001b[32m-\u001b[32m2\u001b[32m0\u001b[32m1\u001b[32m7\u001b[32m&\u001b[30me\u001b[32mm\u001b[32ma\u001b[32mi\u001b[32ml\u001b[32m=\u001b[32me\u001b[32me\u001b[32me\u001b[32m%\u001b[32m4\u001b[32m0\u001b[32mm\u001b[32ma\u001b[32mi\u001b[32ml\u001b[32m.\u001b[32mc\u001b[32mo\u001b[32mm\u001b[32m&\u001b[32mp\u001b[32mh\u001b[32mo\u001b[32mn\u001b[32me\u001b[32m=\u001b[32m7\u001b[32m4\u001b[32m7\u001b[32m4\u001b[32m7\u001b[32m4\u001b[32m7\u001b[32m4\u001b[32m7\u001b[32m&\u001b[32ma\u001b[30mc\u001b[32mc\u001b[32mo\u001b[32mu\u001b[30mn\u001b[32mt\u001b[32m=\u001b[32mD\u001b[32mE\u001b[32m4\u001b[32m4\u001b[32m4\u001b[32m0\u001b[32m4\u001b[32m4\u001b[32m1\u001b[32m9\u001b[30m5\u001b[30m6\u001b[30m9\u001b[32m7\u001b[32m5\u001b[32m0\u001b[32m5\u001b[32m5\u001b[32m3\u001b[32m3\u001b[32m4\u001b[32m0\u001b[32m&\u001b[30mc\u001b[30mr\u001b[30me\u001b[30md\u001b[30mi\u001b[30mt\u001b[30mc\u001b[30ma\u001b[30mr\u001b[30md\u001b[30m=\u001b[32m4\u001b[30m5\u001b[30m5\u001b[32m6\u001b[32m-\u001b[32m9\u001b[30m3\u001b[32m7\u001b[32m3\u001b[30m-\u001b[32m3\u001b[32m9\u001b[30m1\u001b[32m3\u001b[32m-\u001b[32m6\u001b[32m5\u001b[30m1\u001b[32m0\u001b[32m<EOS>\u001b[30m\n",
      "\n",
      "Prediction:  1\n",
      "Loss  2.491817\n",
      "\u001b[32mP\u001b[30mO\u001b[30mS\u001b[30mT\u001b[30m \u001b[30m/\u001b[30mv\u001b[30mu\u001b[30ml\u001b[30mn\u001b[30mb\u001b[30ma\u001b[30mn\u001b[30mk\u001b[30m/\u001b[30mo\u001b[30mn\u001b[30ml\u001b[30mi\u001b[30mn\u001b[30me\u001b[30m/\u001b[30ma\u001b[30mp\u001b[30mi\u001b[30m.\u001b[30mp\u001b[30mh\u001b[30mp\u001b[30m \u001b[30mH\u001b[30mT\u001b[30mT\u001b[30mP\u001b[30m/\u001b[30m1\u001b[30m.\u001b[30m1\u001b[30m\n",
      "\u001b[30mH\u001b[30mo\u001b[30ms\u001b[30mt\u001b[30m:\u001b[30m \u001b[30m1\u001b[30m0\u001b[30m.\u001b[30m0\u001b[30m.\u001b[30m2\u001b[30m1\u001b[30m2\u001b[30m.\u001b[30m2\u001b[30m5\u001b[30m\n",
      "\u001b[32mU\u001b[30ms\u001b[30me\u001b[30mr\u001b[30m-\u001b[30mA\u001b[30mg\u001b[30me\u001b[30mn\u001b[30mt\u001b[30m:\u001b[30m \u001b[30mM\u001b[30mo\u001b[30mz\u001b[30mi\u001b[30ml\u001b[30ml\u001b[30ma\u001b[30m/\u001b[30m5\u001b[30m.\u001b[30m0\u001b[30m \u001b[30m(\u001b[32mX\u001b[30m1\u001b[30m1\u001b[30m;\u001b[30m \u001b[32mU\u001b[30mb\u001b[30mu\u001b[30mn\u001b[30mt\u001b[30mu\u001b[30m;\u001b[30m \u001b[30mL\u001b[30mi\u001b[30mn\u001b[30mu\u001b[30mx\u001b[30m \u001b[30mx\u001b[30m8\u001b[30m6\u001b[30m_\u001b[30m6\u001b[30m4\u001b[30m;\u001b[30m \u001b[30mr\u001b[30mv\u001b[30m:\u001b[30m5\u001b[32m9\u001b[30m.\u001b[30m0\u001b[30m)\u001b[30m \u001b[30mG\u001b[30me\u001b[30mc\u001b[30mk\u001b[30mo\u001b[30m/\u001b[30m2\u001b[30m0\u001b[30m1\u001b[30m0\u001b[30m0\u001b[30m1\u001b[30m0\u001b[30m1\u001b[30m \u001b[30mF\u001b[30mi\u001b[30mr\u001b[30me\u001b[30mf\u001b[30mo\u001b[30mx\u001b[30m/\u001b[30m5\u001b[32m9\u001b[30m.\u001b[30m0\u001b[30m\n",
      "\u001b[30mA\u001b[30mc\u001b[30mc\u001b[30me\u001b[30mp\u001b[30mt\u001b[30m:\u001b[30m \u001b[30ma\u001b[30mp\u001b[30mp\u001b[30ml\u001b[30mi\u001b[30mc\u001b[30ma\u001b[30mt\u001b[30mi\u001b[30mo\u001b[30mn\u001b[30m/\u001b[30mj\u001b[30ms\u001b[30mo\u001b[30mn\u001b[30m,\u001b[30m \u001b[30mt\u001b[30me\u001b[30mx\u001b[30mt\u001b[30m/\u001b[30mj\u001b[30ma\u001b[30mv\u001b[30ma\u001b[30ms\u001b[30mc\u001b[30mr\u001b[30mi\u001b[30mp\u001b[30mt\u001b[30m,\u001b[30m \u001b[30m*\u001b[30m/\u001b[30m*\u001b[30m;\u001b[30m \u001b[30mq\u001b[30m=\u001b[30m0\u001b[30m.\u001b[30m0\u001b[30m1\u001b[30m\n",
      "\u001b[32mA\u001b[30mc\u001b[30mc\u001b[30me\u001b[30mp\u001b[30mt\u001b[30m-\u001b[30mL\u001b[30ma\u001b[30mn\u001b[30mg\u001b[30mu\u001b[30ma\u001b[30mg\u001b[30me\u001b[30m:\u001b[30m \u001b[30me\u001b[30mn\u001b[30m-\u001b[30mU\u001b[30mS\u001b[30m,\u001b[30me\u001b[30mn\u001b[30m;\u001b[30mq\u001b[30m=\u001b[30m0\u001b[30m.\u001b[30m5\u001b[30m\n",
      "\u001b[30mA\u001b[30mc\u001b[30mc\u001b[30me\u001b[30mp\u001b[30mt\u001b[30m-\u001b[30mE\u001b[30mn\u001b[30mc\u001b[30mo\u001b[30md\u001b[30mi\u001b[30mn\u001b[30mg\u001b[30m:\u001b[30m \u001b[30mg\u001b[30mz\u001b[30mi\u001b[30mp\u001b[30m,\u001b[30m \u001b[30md\u001b[30me\u001b[30mf\u001b[30ml\u001b[30ma\u001b[30mt\u001b[30me\u001b[30m\n",
      "\u001b[30mR\u001b[30me\u001b[30mf\u001b[30me\u001b[30mr\u001b[30me\u001b[30mr\u001b[30m:\u001b[30m \u001b[30mh\u001b[30mt\u001b[30mt\u001b[30mp\u001b[30m:\u001b[30m/\u001b[30m/\u001b[30m1\u001b[30m0\u001b[30m.\u001b[30m0\u001b[30m.\u001b[30m2\u001b[30m1\u001b[30m2\u001b[30m.\u001b[30m2\u001b[30m5\u001b[30m/\u001b[30mv\u001b[30mu\u001b[30ml\u001b[30mn\u001b[30mb\u001b[30ma\u001b[30mn\u001b[30mk\u001b[30m/\u001b[30mo\u001b[30mn\u001b[30ml\u001b[30mi\u001b[30mn\u001b[30me\u001b[30m/\u001b[32ml\u001b[30mo\u001b[30mg\u001b[30mi\u001b[30mn\u001b[30m.\u001b[30mp\u001b[30mh\u001b[30mp\u001b[30m\n",
      "\u001b[30mC\u001b[30mo\u001b[30mn\u001b[30mt\u001b[30me\u001b[30mn\u001b[30mt\u001b[30m-\u001b[30mT\u001b[30my\u001b[30mp\u001b[30me\u001b[30m:\u001b[30m \u001b[30ma\u001b[30mp\u001b[30mp\u001b[30ml\u001b[30mi\u001b[30mc\u001b[30ma\u001b[30mt\u001b[30mi\u001b[30mo\u001b[30mn\u001b[30m/\u001b[30mx\u001b[30m-\u001b[30mw\u001b[30mw\u001b[30mw\u001b[30m-\u001b[30mf\u001b[30mo\u001b[30mr\u001b[30mm\u001b[30m-\u001b[30mu\u001b[30mr\u001b[30ml\u001b[30me\u001b[30mn\u001b[30mc\u001b[30mo\u001b[30md\u001b[30me\u001b[30md\u001b[30m\n",
      "\u001b[30mX\u001b[30m-\u001b[30mR\u001b[30me\u001b[30mq\u001b[30mu\u001b[30me\u001b[30ms\u001b[30mt\u001b[30me\u001b[30md\u001b[30m-\u001b[30mW\u001b[30mi\u001b[30mt\u001b[30mh\u001b[30m:\u001b[30m \u001b[30mX\u001b[30mM\u001b[30mL\u001b[30mH\u001b[30mt\u001b[30mt\u001b[30mp\u001b[30mR\u001b[30me\u001b[30mq\u001b[30mu\u001b[30me\u001b[30ms\u001b[30mt\u001b[30m\n",
      "\u001b[30mC\u001b[30mo\u001b[30mn\u001b[30mt\u001b[30me\u001b[30mn\u001b[30mt\u001b[30m-\u001b[30mL\u001b[30me\u001b[30mn\u001b[30mg\u001b[30mt\u001b[30mh\u001b[30m:\u001b[30m \u001b[32m7\u001b[30m6\u001b[30m\n",
      "\u001b[30mC\u001b[30mo\u001b[30mo\u001b[30mk\u001b[30mi\u001b[30me\u001b[30m:\u001b[30m \u001b[30mP\u001b[30mH\u001b[30mP\u001b[30mS\u001b[30mE\u001b[30mS\u001b[30mS\u001b[30mI\u001b[30mD\u001b[30m=\u001b[32mm\u001b[32ml\u001b[32ma\u001b[32mc\u001b[32ms\u001b[32m0\u001b[32mu\u001b[32mi\u001b[32mo\u001b[32mu\u001b[32m3\u001b[32m4\u001b[32m4\u001b[32mi\u001b[32m3\u001b[32mf\u001b[32ma\u001b[32m5\u001b[32m3\u001b[32ms\u001b[32m7\u001b[32mr\u001b[32ma\u001b[32mu\u001b[32mt\u001b[32m6\u001b[32m\n",
      "\u001b[32mC\u001b[30mo\u001b[30mn\u001b[32mn\u001b[30me\u001b[30mc\u001b[30mt\u001b[30mi\u001b[30mo\u001b[30mn\u001b[30m:\u001b[30m \u001b[32mk\u001b[30me\u001b[32me\u001b[32mp\u001b[32m-\u001b[32ma\u001b[30ml\u001b[30mi\u001b[32mv\u001b[30me\u001b[30m\n",
      "\u001b[32m\n",
      "\u001b[30mt\u001b[30my\u001b[30mp\u001b[30me\u001b[30m=\u001b[30mu\u001b[30ms\u001b[30me\u001b[30mr\u001b[30m&\u001b[30ma\u001b[30mc\u001b[30mt\u001b[30mi\u001b[30mo\u001b[30mn\u001b[30m=\u001b[32ml\u001b[32mo\u001b[30mg\u001b[30mi\u001b[30mn\u001b[30m&\u001b[30mu\u001b[30ms\u001b[30me\u001b[30mr\u001b[30mn\u001b[30ma\u001b[30mm\u001b[30me\u001b[30m=\u001b[32mn\u001b[32mo\u001b[32mn\u001b[32me\u001b[32m'\u001b[32m+\u001b[32mu\u001b[32mn\u001b[32mi\u001b[32mo\u001b[32mn\u001b[32m+\u001b[32ms\u001b[30me\u001b[32ml\u001b[32me\u001b[32mc\u001b[32mt\u001b[32m+\u001b[32m1\u001b[32m,\u001b[32m2\u001b[32m,\u001b[32ml\u001b[30mo\u001b[32mg\u001b[32mi\u001b[30mn\u001b[32m,\u001b[32mp\u001b[32ma\u001b[32ms\u001b[32ms\u001b[32mw\u001b[32mo\u001b[30mr\u001b[32md\u001b[32m,\u001b[32m5\u001b[32m,\u001b[32m6\u001b[32m,\u001b[32m7\u001b[32m,\u001b[32mN\u001b[32mU\u001b[32mL\u001b[32mL\u001b[32m,\u001b[32mN\u001b[32mU\u001b[32mL\u001b[32mL\u001b[32m,\u001b[32m1\u001b[32m0\u001b[32m,\u001b[32m1\u001b[32m1\u001b[32m,\u001b[32m1\u001b[32m2\u001b[32m,\u001b[32m1\u001b[32m3\u001b[32m,\u001b[32m1\u001b[32m4\u001b[32m,\u001b[32m1\u001b[32m5\u001b[32m,\u001b[32m1\u001b[32m6\u001b[32m,\u001b[32m1\u001b[32m7\u001b[32m+\u001b[32mf\u001b[32mr\u001b[32mo\u001b[32mm\u001b[32m+\u001b[32mu\u001b[32ms\u001b[32me\u001b[32mr\u001b[32ms\u001b[32m+\u001b[32ml\u001b[32mi\u001b[32mm\u001b[32mi\u001b[32mt\u001b[32m+\u001b[32m1\u001b[32m+\u001b[32m-\u001b[32m-\u001b[32m1\u001b[32m<EOS>\u001b[30m\n",
      "\n",
      "Prediction:  1\n",
      "Loss  0.8652356\n",
      "\u001b[30mP\u001b[30mO\u001b[30mS\u001b[30mT\u001b[30m \u001b[30m/\u001b[30mv\u001b[30mu\u001b[30ml\u001b[30mn\u001b[30mb\u001b[30ma\u001b[30mn\u001b[30mk\u001b[30m/\u001b[30mo\u001b[30mn\u001b[30ml\u001b[30mi\u001b[30mn\u001b[30me\u001b[30m/\u001b[30ma\u001b[30mp\u001b[30mi\u001b[30m.\u001b[30mp\u001b[30mh\u001b[30mp\u001b[30m \u001b[30mH\u001b[30mT\u001b[30mT\u001b[30mP\u001b[30m/\u001b[30m1\u001b[30m.\u001b[30m1\u001b[30m\n",
      "\u001b[30mH\u001b[30mo\u001b[30ms\u001b[30mt\u001b[30m:\u001b[30m \u001b[30m1\u001b[30m0\u001b[30m.\u001b[30m0\u001b[30m.\u001b[30m2\u001b[30m1\u001b[30m2\u001b[30m.\u001b[30m2\u001b[30m5\u001b[30m\n",
      "\u001b[32mU\u001b[30ms\u001b[30me\u001b[30mr\u001b[30m-\u001b[30mA\u001b[30mg\u001b[30me\u001b[30mn\u001b[30mt\u001b[30m:\u001b[30m \u001b[30mM\u001b[30mo\u001b[30mz\u001b[30mi\u001b[30ml\u001b[30ml\u001b[30ma\u001b[30m/\u001b[30m5\u001b[30m.\u001b[30m0\u001b[30m \u001b[30m(\u001b[32mX\u001b[30m1\u001b[30m1\u001b[30m;\u001b[30m \u001b[32mU\u001b[30mb\u001b[30mu\u001b[30mn\u001b[30mt\u001b[30mu\u001b[30m;\u001b[30m \u001b[30mL\u001b[30mi\u001b[30mn\u001b[30mu\u001b[30mx\u001b[30m \u001b[30mx\u001b[30m8\u001b[30m6\u001b[30m_\u001b[30m6\u001b[30m4\u001b[30m;\u001b[30m \u001b[30mr\u001b[30mv\u001b[30m:\u001b[30m5\u001b[32m9\u001b[30m.\u001b[30m0\u001b[30m)\u001b[30m \u001b[30mG\u001b[30me\u001b[30mc\u001b[30mk\u001b[30mo\u001b[30m/\u001b[30m2\u001b[30m0\u001b[30m1\u001b[30m0\u001b[30m0\u001b[30m1\u001b[30m0\u001b[30m1\u001b[30m \u001b[30mF\u001b[30mi\u001b[30mr\u001b[30me\u001b[30mf\u001b[30mo\u001b[30mx\u001b[30m/\u001b[30m5\u001b[32m9\u001b[30m.\u001b[30m0\u001b[30m\n",
      "\u001b[30mA\u001b[30mc\u001b[30mc\u001b[30me\u001b[30mp\u001b[30mt\u001b[30m:\u001b[30m \u001b[30ma\u001b[30mp\u001b[30mp\u001b[30ml\u001b[30mi\u001b[30mc\u001b[30ma\u001b[30mt\u001b[30mi\u001b[30mo\u001b[30mn\u001b[30m/\u001b[30mj\u001b[30ms\u001b[30mo\u001b[30mn\u001b[30m,\u001b[30m \u001b[30mt\u001b[30me\u001b[30mx\u001b[30mt\u001b[30m/\u001b[30mj\u001b[30ma\u001b[30mv\u001b[30ma\u001b[30ms\u001b[30mc\u001b[30mr\u001b[30mi\u001b[30mp\u001b[30mt\u001b[30m,\u001b[30m \u001b[30m*\u001b[30m/\u001b[30m*\u001b[30m;\u001b[30m \u001b[30mq\u001b[30m=\u001b[30m0\u001b[30m.\u001b[30m0\u001b[30m1\u001b[30m\n",
      "\u001b[32mA\u001b[30mc\u001b[30mc\u001b[30me\u001b[30mp\u001b[30mt\u001b[30m-\u001b[30mL\u001b[30ma\u001b[30mn\u001b[30mg\u001b[30mu\u001b[30ma\u001b[30mg\u001b[30me\u001b[30m:\u001b[30m \u001b[30me\u001b[30mn\u001b[30m-\u001b[30mU\u001b[30mS\u001b[30m,\u001b[30me\u001b[30mn\u001b[30m;\u001b[30mq\u001b[30m=\u001b[30m0\u001b[30m.\u001b[30m5\u001b[30m\n",
      "\u001b[30mA\u001b[30mc\u001b[30mc\u001b[30me\u001b[30mp\u001b[30mt\u001b[30m-\u001b[30mE\u001b[30mn\u001b[30mc\u001b[30mo\u001b[30md\u001b[30mi\u001b[30mn\u001b[30mg\u001b[30m:\u001b[30m \u001b[30mg\u001b[30mz\u001b[30mi\u001b[30mp\u001b[30m,\u001b[30m \u001b[30md\u001b[30me\u001b[30mf\u001b[30ml\u001b[30ma\u001b[30mt\u001b[30me\u001b[30m\n",
      "\u001b[30mR\u001b[30me\u001b[30mf\u001b[30me\u001b[30mr\u001b[30me\u001b[30mr\u001b[30m:\u001b[30m \u001b[30mh\u001b[30mt\u001b[30mt\u001b[30mp\u001b[30m:\u001b[30m/\u001b[30m/\u001b[30m1\u001b[30m0\u001b[30m.\u001b[30m0\u001b[30m.\u001b[30m2\u001b[30m1\u001b[30m2\u001b[30m.\u001b[30m2\u001b[30m5\u001b[30m/\u001b[30mv\u001b[30mu\u001b[30ml\u001b[30mn\u001b[30mb\u001b[30ma\u001b[30mn\u001b[30mk\u001b[30m/\u001b[30mo\u001b[30mn\u001b[30ml\u001b[30mi\u001b[30mn\u001b[30me\u001b[30m/\u001b[30mt\u001b[30mr\u001b[30ma\u001b[30mn\u001b[30ms\u001b[30ma\u001b[30mc\u001b[30mt\u001b[30mi\u001b[30mo\u001b[30mn\u001b[30ms\u001b[30m.\u001b[30mp\u001b[30mh\u001b[30mp\u001b[30m\n",
      "\u001b[32mC\u001b[30mo\u001b[30mn\u001b[30mt\u001b[30me\u001b[30mn\u001b[30mt\u001b[30m-\u001b[30mT\u001b[30my\u001b[30mp\u001b[30me\u001b[30m:\u001b[30m \u001b[30ma\u001b[30mp\u001b[30mp\u001b[30ml\u001b[30mi\u001b[30mc\u001b[30ma\u001b[30mt\u001b[30mi\u001b[30mo\u001b[30mn\u001b[30m/\u001b[30mx\u001b[30m-\u001b[30mw\u001b[30mw\u001b[30mw\u001b[30m-\u001b[30mf\u001b[30mo\u001b[30mr\u001b[30mm\u001b[30m-\u001b[30mu\u001b[30mr\u001b[30ml\u001b[30me\u001b[30mn\u001b[30mc\u001b[30mo\u001b[30md\u001b[30me\u001b[30md\u001b[30m;\u001b[30m \u001b[30mc\u001b[30mh\u001b[30ma\u001b[30mr\u001b[30ms\u001b[30me\u001b[30mt\u001b[30m=\u001b[30mU\u001b[30mT\u001b[30mF\u001b[30m-\u001b[30m8\u001b[30m\n",
      "\u001b[32mX\u001b[30m-\u001b[30mR\u001b[30me\u001b[30mq\u001b[30mu\u001b[30me\u001b[30ms\u001b[30mt\u001b[30me\u001b[30md\u001b[30m-\u001b[30mW\u001b[30mi\u001b[30mt\u001b[30mh\u001b[30m:\u001b[30m \u001b[30mX\u001b[30mM\u001b[30mL\u001b[30mH\u001b[30mt\u001b[30mt\u001b[30mp\u001b[30mR\u001b[30me\u001b[30mq\u001b[30mu\u001b[30me\u001b[30ms\u001b[30mt\u001b[30m\n",
      "\u001b[30mC\u001b[30mo\u001b[30mn\u001b[30mt\u001b[30me\u001b[30mn\u001b[30mt\u001b[30m-\u001b[30mL\u001b[30me\u001b[30mn\u001b[30mg\u001b[30mt\u001b[30mh\u001b[30m:\u001b[30m \u001b[30m1\u001b[30m6\u001b[32m2\u001b[30m\n",
      "\u001b[30mC\u001b[30mo\u001b[30mo\u001b[30mk\u001b[30mi\u001b[30me\u001b[30m:\u001b[30m \u001b[30mP\u001b[30mH\u001b[30mP\u001b[30mS\u001b[30mE\u001b[30mS\u001b[30mS\u001b[30mI\u001b[30mD\u001b[30m=\u001b[30mc\u001b[32mh\u001b[32m1\u001b[32mu\u001b[32mp\u001b[32mt\u001b[32m4\u001b[30ml\u001b[32mk\u001b[32m9\u001b[32mo\u001b[32mn\u001b[32mm\u001b[32m6\u001b[30me\u001b[32m2\u001b[32m6\u001b[30ml\u001b[32mo\u001b[32m4\u001b[32ml\u001b[32mk\u001b[32mc\u001b[30m8\u001b[32m9\u001b[30m3\u001b[30m\n",
      "\u001b[30mC\u001b[30mo\u001b[30mn\u001b[32mn\u001b[30me\u001b[30mc\u001b[30mt\u001b[30mi\u001b[30mo\u001b[30mn\u001b[30m:\u001b[30m \u001b[32mk\u001b[30me\u001b[30me\u001b[32mp\u001b[32m-\u001b[32ma\u001b[30ml\u001b[30mi\u001b[32mv\u001b[30me\u001b[30m\n",
      "\u001b[30m\n"
     ]
    },
    {
     "name": "stdout",
     "output_type": "stream",
     "text": [
      "\u001b[30mt\u001b[30my\u001b[30mp\u001b[30me\u001b[30m=\u001b[30mt\u001b[30mr\u001b[30ma\u001b[30mn\u001b[30ms\u001b[30ma\u001b[30mc\u001b[30mt\u001b[30mi\u001b[30mo\u001b[30mn\u001b[30m&\u001b[30ma\u001b[30mc\u001b[30mt\u001b[30mi\u001b[30mo\u001b[30mn\u001b[30m=\u001b[30ms\u001b[30me\u001b[30mn\u001b[30md\u001b[30m&\u001b[30ms\u001b[30me\u001b[30mn\u001b[30md\u001b[30me\u001b[30mr\u001b[30m=\u001b[30mD\u001b[30mE\u001b[30m0\u001b[30m0\u001b[30m0\u001b[30m0\u001b[30m0\u001b[30m1\u001b[30m1\u001b[30m1\u001b[30m1\u001b[30m1\u001b[30m2\u001b[30m2\u001b[30m2\u001b[30m2\u001b[30m2\u001b[30m3\u001b[30m3\u001b[30m3\u001b[30m3\u001b[30m3\u001b[30m&\u001b[30mr\u001b[30me\u001b[30mc\u001b[30mi\u001b[30mp\u001b[30mi\u001b[30me\u001b[30mn\u001b[30mt\u001b[30m=\u001b[30mD\u001b[30mE\u001b[30m1\u001b[30m1\u001b[30m1\u001b[30m1\u001b[30m1\u001b[32m6\u001b[32m5\u001b[32m6\u001b[32m5\u001b[32m6\u001b[30m7\u001b[32m4\u001b[32m7\u001b[32m4\u001b[30m7\u001b[32m8\u001b[32m3\u001b[32m8\u001b[32m3\u001b[32m8\u001b[32m&\u001b[30mc\u001b[30mr\u001b[30me\u001b[30md\u001b[30mi\u001b[30mt\u001b[30mc\u001b[30ma\u001b[30mr\u001b[30md\u001b[30m=\u001b[32m1\u001b[32m2\u001b[32m3\u001b[32m4\u001b[32m-\u001b[32m6\u001b[30m5\u001b[30m7\u001b[32m9\u001b[30m-\u001b[30m3\u001b[30m5\u001b[30m1\u001b[30m4\u001b[30m-\u001b[30m6\u001b[32m4\u001b[32m7\u001b[32m5\u001b[32m&\u001b[30ma\u001b[30mm\u001b[30mo\u001b[30mu\u001b[30mn\u001b[30mt\u001b[30m=\u001b[32m2\u001b[30m&\u001b[30mc\u001b[30mo\u001b[30mm\u001b[30mm\u001b[30me\u001b[30mn\u001b[30mt\u001b[30m=\u001b[32m<\u001b[32ms\u001b[32mv\u001b[32mg\u001b[32m \u001b[32mo\u001b[30mn\u001b[32ml\u001b[32mo\u001b[32ma\u001b[32md\u001b[32m=\u001b[32ma\u001b[32ml\u001b[32me\u001b[32mr\u001b[32mt\u001b[32m(\u001b[32m1\u001b[32m)\u001b[32m>\u001b[32m<EOS>\u001b[30m\n",
      "\n",
      "Prediction:  1\n",
      "Loss  9.947084\n",
      "\u001b[32mP\u001b[32mO\u001b[30mS\u001b[30mT\u001b[30m \u001b[30m/\u001b[30mv\u001b[30mu\u001b[30ml\u001b[30mn\u001b[30mb\u001b[30ma\u001b[30mn\u001b[30mk\u001b[30m/\u001b[30mo\u001b[30mn\u001b[30ml\u001b[30mi\u001b[30mn\u001b[30me\u001b[32mb\u001b[30ma\u001b[32mn\u001b[32mk\u001b[30m/\u001b[32ma\u001b[30mp\u001b[30mi\u001b[32m.\u001b[30mp\u001b[32mh\u001b[30mp\u001b[32m?\u001b[32mx\u001b[32mm\u001b[32ml\u001b[32m \u001b[30mH\u001b[30mT\u001b[30mT\u001b[30mP\u001b[30m/\u001b[30m1\u001b[30m.\u001b[30m1\u001b[30m\n",
      "\u001b[32mH\u001b[32mo\u001b[30ms\u001b[30mt\u001b[30m:\u001b[30m \u001b[32mv\u001b[32mu\u001b[32ml\u001b[32mn\u001b[32mb\u001b[30ma\u001b[32mn\u001b[30mk\u001b[32m.\u001b[32mc\u001b[32mo\u001b[32mm\u001b[32m\n",
      "\u001b[32mU\u001b[32ms\u001b[30me\u001b[30mr\u001b[30m-\u001b[30mA\u001b[30mg\u001b[30me\u001b[30mn\u001b[32mt\u001b[32m:\u001b[30m \u001b[30mM\u001b[30mo\u001b[30mz\u001b[30mi\u001b[30ml\u001b[30ml\u001b[30ma\u001b[30m/\u001b[30m5\u001b[30m.\u001b[30m0\u001b[30m \u001b[30m(\u001b[30mW\u001b[30mi\u001b[30mn\u001b[30md\u001b[30mo\u001b[30mw\u001b[30ms\u001b[30m \u001b[30mN\u001b[30mT\u001b[30m \u001b[30m1\u001b[30m0\u001b[30m.\u001b[30m0\u001b[30m;\u001b[30m \u001b[30mW\u001b[30mi\u001b[30mn\u001b[30m6\u001b[30m4\u001b[30m;\u001b[30m \u001b[30mx\u001b[30m6\u001b[30m4\u001b[32m;\u001b[30m \u001b[30mr\u001b[30mv\u001b[30m:\u001b[30m5\u001b[32m2\u001b[30m.\u001b[30m0\u001b[30m)\u001b[30m \u001b[30mG\u001b[30me\u001b[30mc\u001b[30mk\u001b[30mo\u001b[30m/\u001b[30m2\u001b[30m0\u001b[30m1\u001b[30m0\u001b[30m0\u001b[30m1\u001b[30m0\u001b[30m1\u001b[30m \u001b[30mF\u001b[30mi\u001b[30mr\u001b[30me\u001b[30mf\u001b[30mo\u001b[30mx\u001b[30m/\u001b[30m5\u001b[32m2\u001b[30m.\u001b[30m0\u001b[30m\n",
      "\u001b[30mA\u001b[30mc\u001b[30mc\u001b[30me\u001b[30mp\u001b[30mt\u001b[30m:\u001b[30m \u001b[32ma\u001b[30mp\u001b[30mp\u001b[30ml\u001b[30mi\u001b[30mc\u001b[30ma\u001b[30mt\u001b[30mi\u001b[30mo\u001b[30mn\u001b[30m/\u001b[30mj\u001b[30ms\u001b[30mo\u001b[30mn\u001b[30m,\u001b[30m \u001b[30mt\u001b[30me\u001b[30mx\u001b[30mt\u001b[30m/\u001b[30mj\u001b[30ma\u001b[30mv\u001b[30ma\u001b[30ms\u001b[30mc\u001b[30mr\u001b[30mi\u001b[30mp\u001b[30mt\u001b[30m,\u001b[30m \u001b[30m*\u001b[30m/\u001b[30m*\u001b[30m;\u001b[30m \u001b[30mq\u001b[30m=\u001b[30m0\u001b[30m.\u001b[30m0\u001b[30m1\u001b[30m\n",
      "\u001b[32mC\u001b[30mo\u001b[30mn\u001b[30mt\u001b[30me\u001b[30mn\u001b[30mt\u001b[30m-\u001b[32mT\u001b[32my\u001b[32mp\u001b[30me\u001b[32m:\u001b[30m \u001b[32mt\u001b[32me\u001b[32mx\u001b[30mt\u001b[32m/\u001b[32mx\u001b[30mm\u001b[30ml\u001b[32m\n",
      "\u001b[32mC\u001b[32mo\u001b[30mn\u001b[30mt\u001b[32me\u001b[30mn\u001b[32mt\u001b[32m-\u001b[32mL\u001b[32me\u001b[30mn\u001b[32mg\u001b[30mt\u001b[30mh\u001b[30m:\u001b[30m \u001b[32m9\u001b[32m4\u001b[32m5\u001b[30m\n",
      "\u001b[30mC\u001b[30mo\u001b[30mn\u001b[32mn\u001b[30me\u001b[30mc\u001b[30mt\u001b[30mi\u001b[30mo\u001b[30mn\u001b[30m:\u001b[30m \u001b[30mc\u001b[30ml\u001b[30mo\u001b[30ms\u001b[30me\u001b[30m\n",
      "\u001b[32m\n",
      "\u001b[32m<\u001b[32m?\u001b[32mx\u001b[32mm\u001b[32ml\u001b[32m \u001b[32mv\u001b[30me\u001b[32mr\u001b[30ms\u001b[30mi\u001b[32mo\u001b[32mn\u001b[32m=\u001b[32m\"\u001b[32m1\u001b[32m.\u001b[32m0\u001b[32m\"\u001b[32m \u001b[32me\u001b[30mn\u001b[32mc\u001b[32mo\u001b[32md\u001b[32mi\u001b[32mn\u001b[32mg\u001b[32m=\u001b[32m\"\u001b[32mu\u001b[32mt\u001b[32mf\u001b[32m-\u001b[32m8\u001b[32m\"\u001b[32m?\u001b[32m>\u001b[32m<\u001b[32m!\u001b[32mD\u001b[32mO\u001b[32mC\u001b[32mT\u001b[32mY\u001b[32mP\u001b[32mE\u001b[32m \u001b[32ml\u001b[32mo\u001b[32ml\u001b[32mz\u001b[30m \u001b[32m[\u001b[32m<\u001b[32m!\u001b[32mE\u001b[32mN\u001b[32mT\u001b[32mI\u001b[32mT\u001b[32mY\u001b[30m \u001b[32ml\u001b[32mo\u001b[30ml\u001b[32m \u001b[32m\"\u001b[32ml\u001b[30mo\u001b[32ml\u001b[32m\"\u001b[32m>\u001b[32m<\u001b[32m!\u001b[32mE\u001b[32mL\u001b[32mE\u001b[32mM\u001b[32mE\u001b[32mN\u001b[32mT\u001b[30m \u001b[32ml\u001b[32mo\u001b[32mg\u001b[32mi\u001b[32mn\u001b[32m \u001b[32m(\u001b[32m#\u001b[32mP\u001b[32mC\u001b[32mD\u001b[32mA\u001b[32mT\u001b[32mA\u001b[30m)\u001b[32m>\u001b[32m<\u001b[32m!\u001b[32mE\u001b[32mN\u001b[32mT\u001b[32mI\u001b[32mT\u001b[32mY\u001b[30m \u001b[32ml\u001b[32mo\u001b[30ml\u001b[32m1\u001b[30m \u001b[32m\"\u001b[32m&\u001b[32ml\u001b[30mo\u001b[32ml\u001b[32m;\u001b[32m&\u001b[32ml\u001b[32mo\u001b[32ml\u001b[32m;\u001b[32m&\u001b[32ml\u001b[32mo\u001b[32ml\u001b[32m;\u001b[32m&\u001b[32ml\u001b[32mo\u001b[32ml\u001b[32m;\u001b[32m&\u001b[32ml\u001b[32mo\u001b[32ml\u001b[32m;\u001b[32m&\u001b[32ml\u001b[32mo\u001b[32ml\u001b[32m;\u001b[32m&\u001b[32ml\u001b[32mo\u001b[32ml\u001b[32m;\u001b[32m&\u001b[32ml\u001b[32mo\u001b[32ml\u001b[32m;\u001b[32m&\u001b[32ml\u001b[32mo\u001b[32ml\u001b[32m;\u001b[32m&\u001b[32ml\u001b[32mo\u001b[32ml\u001b[32m;\u001b[32m\"\u001b[32m>\u001b[32m<\u001b[32m!\u001b[32mE\u001b[32mN\u001b[32mT\u001b[32mI\u001b[32mT\u001b[32mY\u001b[30m \u001b[32ml\u001b[32mo\u001b[32ml\u001b[32m2\u001b[32m \u001b[32m\"\u001b[32m&\u001b[32ml\u001b[32mo\u001b[32ml\u001b[32m1\u001b[32m;\u001b[32m&\u001b[32ml\u001b[30mo\u001b[32ml\u001b[32m1\u001b[32m;\u001b[32m&\u001b[32ml\u001b[30mo\u001b[32ml\u001b[32m1\u001b[32m;\u001b[32m&\u001b[32ml\u001b[30mo\u001b[32ml\u001b[32m1\u001b[32m;\u001b[32m&\u001b[32ml\u001b[30mo\u001b[32ml\u001b[32m1\u001b[32m;\u001b[32m&\u001b[32ml\u001b[30mo\u001b[32ml\u001b[32m1\u001b[32m;\u001b[32m&\u001b[32ml\u001b[30mo\u001b[32ml\u001b[32m1\u001b[32m;\u001b[32m&\u001b[32ml\u001b[30mo\u001b[32ml\u001b[32m1\u001b[32m;\u001b[32m&\u001b[32ml\u001b[30mo\u001b[32ml\u001b[32m1\u001b[32m;\u001b[32m&\u001b[32ml\u001b[30mo\u001b[32ml\u001b[32m1\u001b[32m;\u001b[32m\"\u001b[32m>\u001b[32m<\u001b[32m!\u001b[32mE\u001b[32mN\u001b[32mT\u001b[32mI\u001b[32mT\u001b[32mY\u001b[32m \u001b[32ml\u001b[32mo\u001b[32ml\u001b[32m3\u001b[32m \u001b[32m\"\u001b[32m&\u001b[32ml\u001b[32mo\u001b[32ml\u001b[32m2\u001b[32m;\u001b[32m&\u001b[32ml\u001b[30mo\u001b[32ml\u001b[32m2\u001b[32m;\u001b[32m&\u001b[32ml\u001b[30mo\u001b[32ml\u001b[32m2\u001b[32m;\u001b[32m&\u001b[32ml\u001b[30mo\u001b[32ml\u001b[32m2\u001b[32m;\u001b[32m&\u001b[32ml\u001b[30mo\u001b[32ml\u001b[32m2\u001b[32m;\u001b[32m&\u001b[32ml\u001b[30mo\u001b[32ml\u001b[32m2\u001b[32m;\u001b[32m&\u001b[32ml\u001b[30mo\u001b[32ml\u001b[32m2\u001b[32m;\u001b[32m&\u001b[32ml\u001b[30mo\u001b[32ml\u001b[32m2\u001b[32m;\u001b[32m&\u001b[32ml\u001b[30mo\u001b[32ml\u001b[32m2\u001b[32m;\u001b[32m&\u001b[32ml\u001b[30mo\u001b[32ml\u001b[32m2\u001b[32m;\u001b[32m\"\u001b[32m>\u001b[32m<\u001b[32m!\u001b[32mE\u001b[32mN\u001b[32mT\u001b[32mI\u001b[32mT\u001b[32mY\u001b[32m \u001b[32ml\u001b[32mo\u001b[32ml\u001b[32m4\u001b[32m \u001b[32m\"\u001b[32m&\u001b[32ml\u001b[30mo\u001b[32ml\u001b[32m3\u001b[32m;\u001b[32m&\u001b[32ml\u001b[30mo\u001b[32ml\u001b[32m3\u001b[32m;\u001b[32m&\u001b[32ml\u001b[30mo\u001b[32ml\u001b[32m3\u001b[32m;\u001b[32m&\u001b[32ml\u001b[30mo\u001b[32ml\u001b[32m3\u001b[32m;\u001b[32m&\u001b[32ml\u001b[30mo\u001b[32ml\u001b[32m3\u001b[32m;\u001b[32m&\u001b[32ml\u001b[30mo\u001b[32ml\u001b[32m3\u001b[32m;\u001b[32m&\u001b[32ml\u001b[30mo\u001b[32ml\u001b[32m3\u001b[32m;\u001b[32m&\u001b[32ml\u001b[30mo\u001b[32ml\u001b[32m3\u001b[32m;\u001b[32m&\u001b[32ml\u001b[30mo\u001b[32ml\u001b[32m3\u001b[32m;\u001b[32m&\u001b[32ml\u001b[30mo\u001b[32ml\u001b[32m3\u001b[32m;\u001b[32m\"\u001b[32m>\u001b[32m<\u001b[32m!\u001b[32mE\u001b[32mN\u001b[32mT\u001b[32mI\u001b[32mT\u001b[32mY\u001b[32m \u001b[32ml\u001b[32mo\u001b[32ml\u001b[32m5\u001b[32m \u001b[32m\"\u001b[32m&\u001b[32ml\u001b[32mo\u001b[32ml\u001b[32m4\u001b[32m;\u001b[32m&\u001b[32ml\u001b[30mo\u001b[32ml\u001b[32m4\u001b[32m;\u001b[32m&\u001b[32ml\u001b[32mo\u001b[32ml\u001b[32m4\u001b[32m;\u001b[32m&\u001b[32ml\u001b[32mo\u001b[32ml\u001b[32m4\u001b[32m;\u001b[32m&\u001b[32ml\u001b[32mo\u001b[32ml\u001b[32m4\u001b[32m;\u001b[32m&\u001b[32ml\u001b[32mo\u001b[32ml\u001b[32m4\u001b[32m;\u001b[32m&\u001b[32ml\u001b[32mo\u001b[32ml\u001b[32m4\u001b[32m;\u001b[32m&\u001b[32ml\u001b[32mo\u001b[32ml\u001b[32m4\u001b[32m;\u001b[32m&\u001b[32ml\u001b[32mo\u001b[32ml\u001b[32m4\u001b[32m;\u001b[32m&\u001b[32ml\u001b[32mo\u001b[32ml\u001b[32m4\u001b[32m;\u001b[32m\"\u001b[32m>\u001b[32m<\u001b[32m!\u001b[32mE\u001b[32mN\u001b[32mT\u001b[32mI\u001b[32mT\u001b[32mY\u001b[32m \u001b[30ml\u001b[32mo\u001b[30ml\u001b[32m6\u001b[32m \u001b[32m\"\u001b[32m&\u001b[32ml\u001b[32mo\u001b[32ml\u001b[32m5\u001b[32m;\u001b[32m&\u001b[32ml\u001b[30mo\u001b[32ml\u001b[32m5\u001b[32m;\u001b[32m&\u001b[32ml\u001b[30mo\u001b[32ml\u001b[32m5\u001b[32m;\u001b[32m&\u001b[32ml\u001b[32mo\u001b[32ml\u001b[32m5\u001b[32m;\u001b[32m&\u001b[32ml\u001b[32mo\u001b[32ml\u001b[32m5\u001b[32m;\u001b[32m&\u001b[32ml\u001b[32mo\u001b[32ml\u001b[32m5\u001b[32m;\u001b[32m&\u001b[32ml\u001b[32mo\u001b[32ml\u001b[32m5\u001b[32m;\u001b[32m&\u001b[32ml\u001b[32mo\u001b[32ml\u001b[32m5\u001b[32m;\u001b[32m&\u001b[32ml\u001b[32mo\u001b[32ml\u001b[32m5\u001b[32m;\u001b[32m&\u001b[32ml\u001b[32mo\u001b[32ml\u001b[32m5\u001b[32m;\u001b[32m\"\u001b[32m>\u001b[32m<\u001b[32m!\u001b[32mE\u001b[32mN\u001b[32mT\u001b[32mI\u001b[32mT\u001b[32mY\u001b[30m \u001b[32ml\u001b[32mo\u001b[32ml\u001b[32m7\u001b[32m \u001b[32m\"\u001b[32m&\u001b[32ml\u001b[32mo\u001b[32ml\u001b[32m6\u001b[32m;\u001b[32m&\u001b[32ml\u001b[30mo\u001b[32ml\u001b[32m6\u001b[32m;\u001b[32m&\u001b[32ml\u001b[30mo\u001b[32ml\u001b[32m6\u001b[32m;\u001b[32m&\u001b[32ml\u001b[30mo\u001b[32ml\u001b[32m6\u001b[32m;\u001b[32m&\u001b[32ml\u001b[30mo\u001b[32ml\u001b[32m6\u001b[32m;\u001b[32m&\u001b[32ml\u001b[30mo\u001b[32ml\u001b[32m6\u001b[32m;\u001b[32m&\u001b[32ml\u001b[30mo\u001b[32ml\u001b[32m6\u001b[32m;\u001b[32m&\u001b[32ml\u001b[30mo\u001b[32ml\u001b[32m6\u001b[32m;\u001b[32m&\u001b[32ml\u001b[30mo\u001b[32ml\u001b[32m6\u001b[32m;\u001b[32m&\u001b[32ml\u001b[30mo\u001b[32ml\u001b[32m6\u001b[32m;\u001b[32m\"\u001b[32m>\u001b[32m<\u001b[32m!\u001b[32mE\u001b[32mN\u001b[32mT\u001b[32mI\u001b[32mT\u001b[32mY\u001b[30m \u001b[32ml\u001b[32mo\u001b[32ml\u001b[32m8\u001b[30m \u001b[32m\"\u001b[32m&\u001b[32ml\u001b[32mo\u001b[32ml\u001b[32m7\u001b[32m;\u001b[32m&\u001b[32ml\u001b[32mo\u001b[32ml\u001b[32m7\u001b[32m;\u001b[32m&\u001b[32ml\u001b[32mo\u001b[32ml\u001b[32m7\u001b[32m;\u001b[32m&\u001b[32ml\u001b[32mo\u001b[32ml\u001b[32m7\u001b[32m;\u001b[32m&\u001b[32ml\u001b[32mo\u001b[32ml\u001b[32m7\u001b[32m;\u001b[32m&\u001b[32ml\u001b[32mo\u001b[32ml\u001b[32m7\u001b[32m;\u001b[32m&\u001b[32ml\u001b[30mo\u001b[32ml\u001b[32m7\u001b[32m;\u001b[32m&\u001b[32ml\u001b[32mo\u001b[32ml\u001b[32m7\u001b[32m;\u001b[32m&\u001b[32ml\u001b[30mo\u001b[32ml\u001b[32m7\u001b[32m;\u001b[32m&\u001b[32ml\u001b[32mo\u001b[32ml\u001b[32m7\u001b[32m;\u001b[32m\"\u001b[32m>\u001b[32m<\u001b[32m!\u001b[32mE\u001b[32mN\u001b[32mT\u001b[32mI\u001b[32mT\u001b[32mY\u001b[32m \u001b[32ml\u001b[32mo\u001b[32ml\u001b[32m9\u001b[32m \u001b[32m\"\u001b[32m&\u001b[32ml\u001b[32mo\u001b[32ml\u001b[32m8\u001b[32m;\u001b[32m&\u001b[32ml\u001b[30mo\u001b[32ml\u001b[32m8\u001b[32m;\u001b[32m&\u001b[32ml\u001b[32mo\u001b[32ml\u001b[32m8\u001b[32m;\u001b[32m&\u001b[32ml\u001b[32mo\u001b[32ml\u001b[32m8\u001b[32m;\u001b[32m&\u001b[32ml\u001b[32mo\u001b[32ml\u001b[32m8\u001b[32m;\u001b[32m&\u001b[32ml\u001b[32mo\u001b[32ml\u001b[32m8\u001b[32m;\u001b[32m&\u001b[32ml\u001b[30mo\u001b[32ml\u001b[32m8\u001b[32m;\u001b[32m&\u001b[32ml\u001b[30mo\u001b[32ml\u001b[32m8\u001b[32m;\u001b[32m&\u001b[32ml\u001b[30mo\u001b[32ml\u001b[32m8\u001b[32m;\u001b[32m&\u001b[32ml\u001b[30mo\u001b[32ml\u001b[32m8\u001b[32m;\u001b[32m\"\u001b[32m>\u001b[32m]\u001b[32m>\u001b[32m<\u001b[32ma\u001b[32mp\u001b[32mi\u001b[32m>\u001b[32m<\u001b[32mt\u001b[30my\u001b[32mp\u001b[32me\u001b[32m>\u001b[32mu\u001b[32ms\u001b[32me\u001b[32mr\u001b[32m<\u001b[32m/\u001b[32mt\u001b[32my\u001b[32mp\u001b[32me\u001b[32m>\u001b[32m<\u001b[32ma\u001b[32mc\u001b[32mt\u001b[32mi\u001b[32mo\u001b[32mn\u001b[32m>\u001b[32mf\u001b[32mo\u001b[32mr\u001b[32mg\u001b[32mo\u001b[32mt\u001b[32mp\u001b[32ma\u001b[32ms\u001b[32ms\u001b[32m<\u001b[32m/\u001b[32ma\u001b[32mc\u001b[32mt\u001b[32mi\u001b[32mo\u001b[32mn\u001b[32m>\u001b[32m<\u001b[32mu\u001b[32ms\u001b[30me\u001b[32mr\u001b[32mn\u001b[32ma\u001b[32mm\u001b[30me\u001b[32m>\u001b[32mj\u001b[32m.\u001b[32md\u001b[32mo\u001b[32me\u001b[32m<\u001b[32m/\u001b[32mu\u001b[32ms\u001b[32me\u001b[32mr\u001b[32mn\u001b[32ma\u001b[32mm\u001b[32me\u001b[32m>\u001b[32m<\u001b[32mp\u001b[32ma\u001b[32ms\u001b[32ms\u001b[32mw\u001b[32mo\u001b[32mr\u001b[30md\u001b[32m>\u001b[32m&\u001b[30ml\u001b[32mo\u001b[32ml\u001b[32m9\u001b[32m;\u001b[32m<\u001b[32m/\u001b[32mp\u001b[32ma\u001b[32ms\u001b[32ms\u001b[32mw\u001b[32mo\u001b[32mr\u001b[32md\u001b[32m>\u001b[32m<\u001b[32mc\u001b[32mo\u001b[32md\u001b[32me\u001b[32m>\u001b[32m0\u001b[32m0\u001b[32m0\u001b[32m<\u001b[32m/\u001b[32mc\u001b[32mo\u001b[32md\u001b[32me\u001b[32m>\u001b[32m<\u001b[32m/\u001b[32ma\u001b[32mp\u001b[32mi\u001b[32m>\u001b[32m<EOS>\u001b[30m\n",
      "\n",
      "Prediction:  1\n",
      "Loss  1.721965\n",
      "\u001b[30mP\u001b[30mO\u001b[30mS\u001b[30mT\u001b[30m \u001b[30m/\u001b[30mv\u001b[30mu\u001b[30ml\u001b[30mn\u001b[30mb\u001b[30ma\u001b[30mn\u001b[30mk\u001b[30m/\u001b[30mo\u001b[30mn\u001b[30ml\u001b[30mi\u001b[30mn\u001b[30me\u001b[30m/\u001b[30ma\u001b[30mp\u001b[30mi\u001b[30m.\u001b[30mp\u001b[30mh\u001b[30mp\u001b[30m \u001b[30mH\u001b[30mT\u001b[30mT\u001b[30mP\u001b[30m/\u001b[30m1\u001b[30m.\u001b[30m1\u001b[30m\n",
      "\u001b[30mH\u001b[30mo\u001b[30ms\u001b[30mt\u001b[30m:\u001b[30m \u001b[30m1\u001b[30m0\u001b[30m.\u001b[30m0\u001b[30m.\u001b[30m2\u001b[30m1\u001b[30m2\u001b[30m.\u001b[30m2\u001b[30m5\u001b[30m\n",
      "\u001b[30mC\u001b[30mo\u001b[30mn\u001b[30mn\u001b[30me\u001b[30mc\u001b[30mt\u001b[30mi\u001b[30mo\u001b[30mn\u001b[30m:\u001b[30m \u001b[32mk\u001b[32me\u001b[30me\u001b[32mp\u001b[30m-\u001b[32ma\u001b[30ml\u001b[30mi\u001b[32mv\u001b[30me\u001b[30m\n",
      "\u001b[30mC\u001b[30mo\u001b[30mn\u001b[30mt\u001b[30me\u001b[30mn\u001b[30mt\u001b[30m-\u001b[30mL\u001b[30me\u001b[30mn\u001b[30mg\u001b[30mt\u001b[30mh\u001b[30m:\u001b[30m \u001b[30m1\u001b[32m3\u001b[32m0\u001b[30m\n",
      "\u001b[30mA\u001b[30mc\u001b[30mc\u001b[30me\u001b[30mp\u001b[30mt\u001b[30m:\u001b[30m \u001b[30ma\u001b[30mp\u001b[30mp\u001b[30ml\u001b[30mi\u001b[30mc\u001b[30ma\u001b[30mt\u001b[30mi\u001b[30mo\u001b[30mn\u001b[30m/\u001b[30mj\u001b[30ms\u001b[30mo\u001b[30mn\u001b[30m,\u001b[30m \u001b[30mt\u001b[30me\u001b[30mx\u001b[30mt\u001b[30m/\u001b[30mj\u001b[30ma\u001b[30mv\u001b[30ma\u001b[30ms\u001b[30mc\u001b[30mr\u001b[30mi\u001b[30mp\u001b[30mt\u001b[30m,\u001b[30m \u001b[30m*\u001b[30m/\u001b[30m*\u001b[30m;\u001b[30m \u001b[30mq\u001b[30m=\u001b[30m0\u001b[30m.\u001b[30m0\u001b[30m1\u001b[30m\n",
      "\u001b[32mO\u001b[30mr\u001b[30mi\u001b[30mg\u001b[30mi\u001b[30mn\u001b[30m:\u001b[30m \u001b[30mh\u001b[30mt\u001b[30mt\u001b[30mp\u001b[30m:\u001b[30m/\u001b[30m/\u001b[30m1\u001b[30m0\u001b[30m.\u001b[30m0\u001b[30m.\u001b[30m2\u001b[30m1\u001b[30m2\u001b[30m.\u001b[30m2\u001b[30m5\u001b[30m\n",
      "\u001b[30mX\u001b[30m-\u001b[30mR\u001b[30me\u001b[30mq\u001b[30mu\u001b[30me\u001b[30ms\u001b[30mt\u001b[30me\u001b[30md\u001b[30m-\u001b[30mW\u001b[30mi\u001b[30mt\u001b[30mh\u001b[30m:\u001b[30m \u001b[30mX\u001b[30mM\u001b[30mL\u001b[30mH\u001b[30mt\u001b[30mt\u001b[30mp\u001b[30mR\u001b[30me\u001b[30mq\u001b[30mu\u001b[30me\u001b[30ms\u001b[30mt\u001b[30m\n",
      "\u001b[30mU\u001b[30ms\u001b[30me\u001b[30mr\u001b[30m-\u001b[30mA\u001b[30mg\u001b[30me\u001b[30mn\u001b[30mt\u001b[30m:\u001b[30m \u001b[30mM\u001b[30mo\u001b[30mz\u001b[30mi\u001b[30ml\u001b[30ml\u001b[30ma\u001b[30m/\u001b[30m5\u001b[30m.\u001b[30m0\u001b[30m \u001b[30m(\u001b[32mX\u001b[30m1\u001b[30m1\u001b[30m;\u001b[30m \u001b[30mL\u001b[30mi\u001b[30mn\u001b[30mu\u001b[30mx\u001b[30m \u001b[30mx\u001b[30m8\u001b[30m6\u001b[30m_\u001b[30m6\u001b[30m4\u001b[30m)\u001b[30m \u001b[30mA\u001b[30mp\u001b[30mp\u001b[30ml\u001b[30me\u001b[30mW\u001b[30me\u001b[30mb\u001b[30mK\u001b[30mi\u001b[30mt\u001b[30m/\u001b[30m5\u001b[30m3\u001b[30m7\u001b[30m.\u001b[30m3\u001b[30m6\u001b[30m \u001b[30m(\u001b[30mK\u001b[30mH\u001b[30mT\u001b[30mM\u001b[30mL\u001b[30m,\u001b[30m \u001b[30ml\u001b[30mi\u001b[30mk\u001b[30me\u001b[30m \u001b[30mG\u001b[30me\u001b[30mc\u001b[30mk\u001b[30mo\u001b[30m)\u001b[30m \u001b[30mC\u001b[30mh\u001b[30mr\u001b[30mo\u001b[30mm\u001b[30me\u001b[30m/\u001b[30m6\u001b[32m6\u001b[30m.\u001b[30m0\u001b[30m.\u001b[32m3\u001b[32m3\u001b[32m5\u001b[32m9\u001b[30m.\u001b[32m1\u001b[30m3\u001b[32m9\u001b[32m \u001b[32mS\u001b[32ma\u001b[32mf\u001b[32ma\u001b[32mr\u001b[32mi\u001b[32m/\u001b[30m5\u001b[30m3\u001b[30m7\u001b[32m.\u001b[30m3\u001b[30m6\u001b[32m\n",
      "\u001b[30mC\u001b[30mo\u001b[30mn\u001b[30mt\u001b[30me\u001b[30mn\u001b[30mt\u001b[30m-\u001b[30mT\u001b[30my\u001b[30mp\u001b[30me\u001b[30m:\u001b[30m \u001b[30ma\u001b[30mp\u001b[30mp\u001b[30ml\u001b[30mi\u001b[30mc\u001b[30ma\u001b[30mt\u001b[30mi\u001b[30mo\u001b[30mn\u001b[30m/\u001b[30mx\u001b[30m-\u001b[30mw\u001b[30mw\u001b[30mw\u001b[30m-\u001b[30mf\u001b[30mo\u001b[30mr\u001b[30mm\u001b[30m-\u001b[30mu\u001b[30mr\u001b[30ml\u001b[30me\u001b[30mn\u001b[30mc\u001b[30mo\u001b[30md\u001b[30me\u001b[30md\u001b[30m;\u001b[30m \u001b[30mc\u001b[30mh\u001b[30ma\u001b[30mr\u001b[30ms\u001b[30me\u001b[30mt\u001b[30m=\u001b[30mU\u001b[30mT\u001b[30mF\u001b[30m-\u001b[30m8\u001b[30m\n",
      "\u001b[32mD\u001b[32mN\u001b[32mT\u001b[32m:\u001b[32m \u001b[32m1\u001b[30m\n",
      "\u001b[30mR\u001b[30me\u001b[30mf\u001b[30me\u001b[30mr\u001b[30me\u001b[30mr\u001b[30m:\u001b[30m \u001b[30mh\u001b[30mt\u001b[30mt\u001b[30mp\u001b[30m:\u001b[30m/\u001b[30m/\u001b[30m1\u001b[30m0\u001b[30m.\u001b[30m0\u001b[30m.\u001b[30m2\u001b[30m1\u001b[30m2\u001b[30m.\u001b[30m2\u001b[30m5\u001b[30m/\u001b[30mv\u001b[30mu\u001b[30ml\u001b[30mn\u001b[30mb\u001b[30ma\u001b[30mn\u001b[30mk\u001b[30m/\u001b[30mo\u001b[30mn\u001b[30ml\u001b[30mi\u001b[30mn\u001b[30me\u001b[30m/\u001b[32mu\u001b[30ms\u001b[30me\u001b[30mr\u001b[30mi\u001b[30mn\u001b[30mf\u001b[30mo\u001b[30m.\u001b[30mp\u001b[30mh\u001b[30mp\u001b[30m\n",
      "\u001b[32mA\u001b[30mc\u001b[30mc\u001b[30me\u001b[30mp\u001b[30mt\u001b[30m-\u001b[30mE\u001b[30mn\u001b[30mc\u001b[30mo\u001b[30md\u001b[30mi\u001b[30mn\u001b[30mg\u001b[30m:\u001b[30m \u001b[30mg\u001b[30mz\u001b[30mi\u001b[30mp\u001b[30m,\u001b[30m \u001b[30md\u001b[30me\u001b[30mf\u001b[30ml\u001b[30ma\u001b[30mt\u001b[30me\u001b[30m\n",
      "\u001b[30mA\u001b[30mc\u001b[30mc\u001b[30me\u001b[30mp\u001b[30mt\u001b[30m-\u001b[30mL\u001b[30ma\u001b[30mn\u001b[30mg\u001b[30mu\u001b[30ma\u001b[30mg\u001b[30me\u001b[30m:\u001b[30m \u001b[30me\u001b[30mn\u001b[30m-\u001b[30mU\u001b[30mS\u001b[30m,\u001b[30me\u001b[30mn\u001b[30m;\u001b[30mq\u001b[30m=\u001b[30m0\u001b[30m.\u001b[30m9\u001b[32m,\u001b[32mr\u001b[32mu\u001b[32m;\u001b[32mq\u001b[32m=\u001b[32m0\u001b[30m.\u001b[32m8\u001b[32m\n",
      "\u001b[30mC\u001b[30mo\u001b[32mo\u001b[32mk\u001b[32mi\u001b[30me\u001b[30m:\u001b[30m \u001b[30mP\u001b[30mH\u001b[30mP\u001b[30mS\u001b[30mE\u001b[30mS\u001b[30mS\u001b[30mI\u001b[30mD\u001b[30m=\u001b[32m7\u001b[32mb\u001b[32mg\u001b[32mg\u001b[32m5\u001b[32mt\u001b[32ma\u001b[32ml\u001b[32md\u001b[32m4\u001b[32ma\u001b[32me\u001b[32ma\u001b[32m8\u001b[32m0\u001b[32m7\u001b[32m9\u001b[32m0\u001b[32mi\u001b[32mt\u001b[32m7\u001b[32ms\u001b[32m1\u001b[32mc\u001b[32mc\u001b[32m1\u001b[32m\n",
      "\u001b[32m\n",
      "\u001b[32mt\u001b[30my\u001b[30mp\u001b[30me\u001b[30m=\u001b[30mu\u001b[30ms\u001b[30me\u001b[30mr\u001b[30m&\u001b[30ma\u001b[30mc\u001b[30mt\u001b[30mi\u001b[30mo\u001b[30mn\u001b[30m=\u001b[32mi\u001b[30mn\u001b[32mf\u001b[32mo\u001b[32mu\u001b[32mp\u001b[32md\u001b[32ma\u001b[30mt\u001b[32me\u001b[32m&\u001b[32mf\u001b[30mi\u001b[30mr\u001b[32ms\u001b[30mt\u001b[32mn\u001b[30ma\u001b[32mm\u001b[32me\u001b[32m=\u001b[32mJ\u001b[32mo\u001b[32mh\u001b[32mn\u001b[32m&\u001b[32ml\u001b[30ma\u001b[30ms\u001b[30mt\u001b[30mn\u001b[30ma\u001b[30mm\u001b[30me\u001b[30m=\u001b[32mD\u001b[32mo\u001b[32me\u001b[32m&\u001b[32mp\u001b[32mh\u001b[32mo\u001b[32mn\u001b[30me\u001b[32m=\u001b[32m7\u001b[32m9\u001b[32m0\u001b[32m3\u001b[32m5\u001b[32m2\u001b[32m2\u001b[32m2\u001b[32m2\u001b[32m1\u001b[32m2\u001b[30m&\u001b[32me\u001b[32mm\u001b[32ma\u001b[32mi\u001b[32ml\u001b[32m=\u001b[32mj\u001b[32m.\u001b[32md\u001b[30mo\u001b[32me\u001b[32m%\u001b[32m4\u001b[32m0\u001b[32mv\u001b[32mu\u001b[32ml\u001b[32mn\u001b[32mb\u001b[30ma\u001b[32mn\u001b[32mk\u001b[32m.\u001b[32md\u001b[32me\u001b[32m&\u001b[32mb\u001b[32mi\u001b[30mr\u001b[32mt\u001b[32mh\u001b[32md\u001b[32ma\u001b[32mt\u001b[30me\u001b[30m=\u001b[30m1\u001b[32m9\u001b[32m8\u001b[32m4\u001b[32m-\u001b[30m0\u001b[32m4\u001b[32m-\u001b[32m0\u001b[32m4\u001b[32m&\u001b[32ma\u001b[32mb\u001b[32mo\u001b[32mu\u001b[30mt\u001b[32m=\u001b[32mH\u001b[32mi\u001b[32m!\u001b[32m<EOS>\u001b[30m\n",
      "\n",
      "Prediction:  1\n",
      "Loss  1.721965\n",
      "\u001b[30mP\u001b[30mO\u001b[30mS\u001b[30mT\u001b[30m \u001b[30m/\u001b[30mv\u001b[30mu\u001b[30ml\u001b[30mn\u001b[30mb\u001b[30ma\u001b[30mn\u001b[30mk\u001b[30m/\u001b[30mo\u001b[30mn\u001b[30ml\u001b[30mi\u001b[30mn\u001b[30me\u001b[30m/\u001b[30ma\u001b[30mp\u001b[30mi\u001b[30m.\u001b[30mp\u001b[30mh\u001b[30mp\u001b[30m \u001b[30mH\u001b[30mT\u001b[30mT\u001b[30mP\u001b[30m/\u001b[30m1\u001b[30m.\u001b[30m1\u001b[30m\n",
      "\u001b[30mH\u001b[30mo\u001b[30ms\u001b[30mt\u001b[30m:\u001b[30m \u001b[30m1\u001b[30m0\u001b[30m.\u001b[30m0\u001b[30m.\u001b[30m2\u001b[30m1\u001b[30m2\u001b[30m.\u001b[30m2\u001b[30m5\u001b[30m\n",
      "\u001b[30mC\u001b[30mo\u001b[30mn\u001b[30mn\u001b[30me\u001b[30mc\u001b[30mt\u001b[30mi\u001b[30mo\u001b[30mn\u001b[30m:\u001b[30m \u001b[32mk\u001b[32me\u001b[30me\u001b[32mp\u001b[30m-\u001b[32ma\u001b[30ml\u001b[30mi\u001b[32mv\u001b[30me\u001b[30m\n",
      "\u001b[30mC\u001b[30mo\u001b[30mn\u001b[30mt\u001b[30me\u001b[30mn\u001b[30mt\u001b[30m-\u001b[30mL\u001b[30me\u001b[30mn\u001b[30mg\u001b[30mt\u001b[30mh\u001b[30m:\u001b[30m \u001b[30m1\u001b[32m3\u001b[32m0\u001b[30m\n",
      "\u001b[30mA\u001b[30mc\u001b[30mc\u001b[30me\u001b[30mp\u001b[30mt\u001b[30m:\u001b[30m \u001b[30ma\u001b[30mp\u001b[30mp\u001b[30ml\u001b[30mi\u001b[30mc\u001b[30ma\u001b[30mt\u001b[30mi\u001b[30mo\u001b[30mn\u001b[30m/\u001b[30mj\u001b[30ms\u001b[30mo\u001b[30mn\u001b[30m,\u001b[30m \u001b[30mt\u001b[30me\u001b[30mx\u001b[30mt\u001b[30m/\u001b[30mj\u001b[30ma\u001b[30mv\u001b[30ma\u001b[30ms\u001b[30mc\u001b[30mr\u001b[30mi\u001b[30mp\u001b[30mt\u001b[30m,\u001b[30m \u001b[30m*\u001b[30m/\u001b[30m*\u001b[30m;\u001b[30m \u001b[30mq\u001b[30m=\u001b[30m0\u001b[30m.\u001b[30m0\u001b[30m1\u001b[30m\n",
      "\u001b[32mO\u001b[30mr\u001b[30mi\u001b[30mg\u001b[30mi\u001b[30mn\u001b[30m:\u001b[30m \u001b[30mh\u001b[30mt\u001b[30mt\u001b[30mp\u001b[30m:\u001b[30m/\u001b[30m/\u001b[30m1\u001b[30m0\u001b[30m.\u001b[30m0\u001b[30m.\u001b[30m2\u001b[30m1\u001b[30m2\u001b[30m.\u001b[30m2\u001b[30m5\u001b[30m\n",
      "\u001b[30mX\u001b[30m-\u001b[30mR\u001b[30me\u001b[30mq\u001b[30mu\u001b[30me\u001b[30ms\u001b[30mt\u001b[30me\u001b[30md\u001b[30m-\u001b[30mW\u001b[30mi\u001b[30mt\u001b[30mh\u001b[30m:\u001b[30m \u001b[30mX\u001b[30mM\u001b[30mL\u001b[30mH\u001b[30mt\u001b[30mt\u001b[30mp\u001b[30mR\u001b[30me\u001b[30mq\u001b[30mu\u001b[30me\u001b[30ms\u001b[30mt\u001b[30m\n",
      "\u001b[30mU\u001b[30ms\u001b[30me\u001b[30mr\u001b[30m-\u001b[30mA\u001b[30mg\u001b[30me\u001b[30mn\u001b[30mt\u001b[30m:\u001b[30m \u001b[30mM\u001b[30mo\u001b[30mz\u001b[30mi\u001b[30ml\u001b[30ml\u001b[30ma\u001b[30m/\u001b[30m5\u001b[30m.\u001b[30m0\u001b[30m \u001b[30m(\u001b[32mX\u001b[30m1\u001b[30m1\u001b[30m;\u001b[30m \u001b[30mL\u001b[30mi\u001b[30mn\u001b[30mu\u001b[30mx\u001b[30m \u001b[30mx\u001b[30m8\u001b[30m6\u001b[30m_\u001b[30m6\u001b[30m4\u001b[30m)\u001b[30m \u001b[30mA\u001b[30mp\u001b[30mp\u001b[30ml\u001b[30me\u001b[30mW\u001b[30me\u001b[30mb\u001b[30mK\u001b[30mi\u001b[30mt\u001b[30m/\u001b[30m5\u001b[30m3\u001b[30m7\u001b[30m.\u001b[30m3\u001b[30m6\u001b[30m \u001b[30m(\u001b[30mK\u001b[30mH\u001b[30mT\u001b[30mM\u001b[30mL\u001b[30m,\u001b[30m \u001b[30ml\u001b[30mi\u001b[30mk\u001b[30me\u001b[30m \u001b[30mG\u001b[30me\u001b[30mc\u001b[30mk\u001b[30mo\u001b[30m)\u001b[30m \u001b[30mC\u001b[30mh\u001b[30mr\u001b[30mo\u001b[30mm\u001b[30me\u001b[30m/\u001b[30m6\u001b[32m6\u001b[30m.\u001b[30m0\u001b[30m.\u001b[32m3\u001b[32m3\u001b[32m5\u001b[32m9\u001b[30m.\u001b[32m1\u001b[30m3\u001b[32m9\u001b[32m \u001b[32mS\u001b[32ma\u001b[32mf\u001b[32ma\u001b[32mr\u001b[32mi\u001b[32m/\u001b[30m5\u001b[30m3\u001b[30m7\u001b[32m.\u001b[30m3\u001b[30m6\u001b[32m\n",
      "\u001b[30mC\u001b[30mo\u001b[30mn\u001b[30mt\u001b[30me\u001b[30mn\u001b[30mt\u001b[30m-\u001b[30mT\u001b[30my\u001b[30mp\u001b[30me\u001b[30m:\u001b[30m \u001b[30ma\u001b[30mp\u001b[30mp\u001b[30ml\u001b[30mi\u001b[30mc\u001b[30ma\u001b[30mt\u001b[30mi\u001b[30mo\u001b[30mn\u001b[30m/\u001b[30mx\u001b[30m-\u001b[30mw\u001b[30mw\u001b[30mw\u001b[30m-\u001b[30mf\u001b[30mo\u001b[30mr\u001b[30mm\u001b[30m-\u001b[30mu\u001b[30mr\u001b[30ml\u001b[30me\u001b[30mn\u001b[30mc\u001b[30mo\u001b[30md\u001b[30me\u001b[30md\u001b[30m;\u001b[30m \u001b[30mc\u001b[30mh\u001b[30ma\u001b[30mr\u001b[30ms\u001b[30me\u001b[30mt\u001b[30m=\u001b[30mU\u001b[30mT\u001b[30mF\u001b[30m-\u001b[30m8\u001b[30m\n",
      "\u001b[32mD\u001b[32mN\u001b[32mT\u001b[32m:\u001b[32m \u001b[32m1\u001b[30m\n",
      "\u001b[30mR\u001b[30me\u001b[30mf\u001b[30me\u001b[30mr\u001b[30me\u001b[30mr\u001b[30m:\u001b[30m \u001b[30mh\u001b[30mt\u001b[30mt\u001b[30mp\u001b[30m:\u001b[30m/\u001b[30m/\u001b[30m1\u001b[30m0\u001b[30m.\u001b[30m0\u001b[30m.\u001b[30m2\u001b[30m1\u001b[30m2\u001b[30m.\u001b[30m2\u001b[30m5\u001b[30m/\u001b[30mv\u001b[30mu\u001b[30ml\u001b[30mn\u001b[30mb\u001b[30ma\u001b[30mn\u001b[30mk\u001b[30m/\u001b[30mo\u001b[30mn\u001b[30ml\u001b[30mi\u001b[30mn\u001b[30me\u001b[30m/\u001b[32mu\u001b[30ms\u001b[30me\u001b[30mr\u001b[30mi\u001b[30mn\u001b[30mf\u001b[30mo\u001b[30m.\u001b[30mp\u001b[30mh\u001b[30mp\u001b[30m\n",
      "\u001b[32mA\u001b[30mc\u001b[30mc\u001b[30me\u001b[30mp\u001b[30mt\u001b[30m-\u001b[30mE\u001b[30mn\u001b[30mc\u001b[30mo\u001b[30md\u001b[30mi\u001b[30mn\u001b[30mg\u001b[30m:\u001b[30m \u001b[30mg\u001b[30mz\u001b[30mi\u001b[30mp\u001b[30m,\u001b[30m \u001b[30md\u001b[30me\u001b[30mf\u001b[30ml\u001b[30ma\u001b[30mt\u001b[30me\u001b[30m\n",
      "\u001b[30mA\u001b[30mc\u001b[30mc\u001b[30me\u001b[30mp\u001b[30mt\u001b[30m-\u001b[30mL\u001b[30ma\u001b[30mn\u001b[30mg\u001b[30mu\u001b[30ma\u001b[30mg\u001b[30me\u001b[30m:\u001b[30m \u001b[30me\u001b[30mn\u001b[30m-\u001b[30mU\u001b[30mS\u001b[30m,\u001b[30me\u001b[30mn\u001b[30m;\u001b[30mq\u001b[30m=\u001b[30m0\u001b[30m.\u001b[30m9\u001b[32m,\u001b[32mr\u001b[32mu\u001b[32m;\u001b[32mq\u001b[32m=\u001b[32m0\u001b[30m.\u001b[32m8\u001b[32m\n",
      "\u001b[30mC\u001b[30mo\u001b[32mo\u001b[32mk\u001b[32mi\u001b[30me\u001b[30m:\u001b[30m \u001b[30mP\u001b[30mH\u001b[30mP\u001b[30mS\u001b[30mE\u001b[30mS\u001b[30mS\u001b[30mI\u001b[30mD\u001b[30m=\u001b[32m7\u001b[32mb\u001b[32mg\u001b[32mg\u001b[32m5\u001b[32mt\u001b[32ma\u001b[32ml\u001b[32md\u001b[32m4\u001b[32ma\u001b[32me\u001b[32ma\u001b[32m8\u001b[32m0\u001b[32m7\u001b[32m9\u001b[32m0\u001b[32mi\u001b[32mt\u001b[32m7\u001b[32ms\u001b[32m1\u001b[32mc\u001b[32mc\u001b[32m1\u001b[32m\n",
      "\u001b[32m\n"
     ]
    },
    {
     "name": "stdout",
     "output_type": "stream",
     "text": [
      "\u001b[32mt\u001b[30my\u001b[30mp\u001b[30me\u001b[30m=\u001b[30mu\u001b[30ms\u001b[30me\u001b[30mr\u001b[30m&\u001b[30ma\u001b[30mc\u001b[30mt\u001b[30mi\u001b[30mo\u001b[30mn\u001b[30m=\u001b[32mi\u001b[30mn\u001b[32mf\u001b[32mo\u001b[32mu\u001b[32mp\u001b[32md\u001b[32ma\u001b[30mt\u001b[32me\u001b[32m&\u001b[32mf\u001b[30mi\u001b[30mr\u001b[32ms\u001b[30mt\u001b[32mn\u001b[30ma\u001b[32mm\u001b[32me\u001b[32m=\u001b[32mJ\u001b[32mo\u001b[32mh\u001b[32mn\u001b[32m&\u001b[32ml\u001b[30ma\u001b[30ms\u001b[30mt\u001b[30mn\u001b[30ma\u001b[30mm\u001b[30me\u001b[30m=\u001b[32mD\u001b[32mo\u001b[32me\u001b[32m&\u001b[32mp\u001b[32mh\u001b[32mo\u001b[32mn\u001b[30me\u001b[32m=\u001b[32m7\u001b[32m9\u001b[32m0\u001b[32m3\u001b[32m5\u001b[32m2\u001b[32m2\u001b[32m2\u001b[32m2\u001b[32m1\u001b[32m2\u001b[30m&\u001b[32me\u001b[32mm\u001b[32ma\u001b[32mi\u001b[32ml\u001b[32m=\u001b[32mj\u001b[32m.\u001b[32md\u001b[30mo\u001b[32me\u001b[32m%\u001b[32m4\u001b[32m0\u001b[32mv\u001b[32mu\u001b[32ml\u001b[32mn\u001b[32mb\u001b[30ma\u001b[32mn\u001b[32mk\u001b[32m.\u001b[32md\u001b[32me\u001b[32m&\u001b[32mb\u001b[32mi\u001b[30mr\u001b[32mt\u001b[32mh\u001b[32md\u001b[32ma\u001b[32mt\u001b[30me\u001b[30m=\u001b[30m1\u001b[32m9\u001b[32m8\u001b[32m4\u001b[32m-\u001b[30m0\u001b[32m4\u001b[32m-\u001b[32m0\u001b[32m4\u001b[32m&\u001b[32ma\u001b[32mb\u001b[32mo\u001b[32mu\u001b[30mt\u001b[32m=\u001b[32mH\u001b[32mi\u001b[32m!\u001b[32m<EOS>\u001b[30m\n",
      "\n",
      "Prediction:  1\n",
      "Loss  4.81311\n",
      "\u001b[32mP\u001b[32mU\u001b[32mT\u001b[30m \u001b[30m/\u001b[32mc\u001b[32mv\u001b[32mp\u001b[32mh\u001b[32mq\u001b[32mf\u001b[32my\u001b[32mm\u001b[32ml\u001b[32mt\u001b[32m.\u001b[32mt\u001b[32mx\u001b[32mt\u001b[32m \u001b[32mH\u001b[32mT\u001b[32mT\u001b[32mP\u001b[32m/\u001b[32m1\u001b[32m.\u001b[32m1\u001b[32m\n",
      "\u001b[32mH\u001b[30mo\u001b[30ms\u001b[30mt\u001b[30m:\u001b[30m \u001b[30m1\u001b[30m0\u001b[30m.\u001b[30m0\u001b[30m.\u001b[30m2\u001b[30m1\u001b[30m2\u001b[30m.\u001b[30m2\u001b[30m5\u001b[30m\n",
      "\u001b[30mC\u001b[30mo\u001b[30mn\u001b[32mt\u001b[30me\u001b[30mn\u001b[30mt\u001b[30m-\u001b[30mL\u001b[30me\u001b[30mn\u001b[30mg\u001b[30mt\u001b[30mh\u001b[30m:\u001b[30m \u001b[30m1\u001b[32m0\u001b[30m\n",
      "\u001b[30mC\u001b[30mo\u001b[30mn\u001b[30mn\u001b[30me\u001b[30mc\u001b[30mt\u001b[30mi\u001b[30mo\u001b[30mn\u001b[30m:\u001b[30m \u001b[30mc\u001b[30ml\u001b[30mo\u001b[30ms\u001b[30me\u001b[30m\n",
      "\u001b[32m\n",
      "\u001b[32mm\u001b[32mb\u001b[32m4\u001b[32m7\u001b[32m0\u001b[32mo\u001b[32mr\u001b[32m8\u001b[32ms\u001b[32ml\u001b[32m<EOS>\u001b[30m\n",
      "\n",
      "Prediction:  1\n",
      "Loss  6.167886\n",
      "\u001b[32mT\u001b[32mR\u001b[32mA\u001b[32mC\u001b[32mE\u001b[32m \u001b[32m/\u001b[32m \u001b[32mH\u001b[32mT\u001b[32mT\u001b[32mP\u001b[32m/\u001b[32m1\u001b[32m.\u001b[32m1\u001b[32m\n",
      "\u001b[32mH\u001b[32mo\u001b[30ms\u001b[30mt\u001b[30m:\u001b[30m \u001b[30m1\u001b[30m0\u001b[30m.\u001b[30m0\u001b[30m.\u001b[30m2\u001b[30m1\u001b[30m2\u001b[30m.\u001b[30m2\u001b[30m5\u001b[30m\n",
      "\u001b[30mC\u001b[30mo\u001b[32mo\u001b[32mk\u001b[32mi\u001b[30me\u001b[30m:\u001b[30m \u001b[32mw\u001b[32md\u001b[32m1\u001b[32m2\u001b[32mk\u001b[32mg\u001b[32mj\u001b[32m0\u001b[32mo\u001b[32m3\u001b[32m\n",
      "\u001b[30mC\u001b[30mo\u001b[30mn\u001b[32mn\u001b[30me\u001b[30mc\u001b[30mt\u001b[30mi\u001b[30mo\u001b[30mn\u001b[30m:\u001b[30m \u001b[30mc\u001b[30ml\u001b[30mo\u001b[30ms\u001b[30me\u001b[32m<EOS>\u001b[30m\n",
      "\n",
      "Prediction:  1\n",
      "Loss  4.302686\n",
      "\u001b[30mG\u001b[30mE\u001b[30mT\u001b[30m \u001b[30m/\u001b[32mc\u001b[32ml\u001b[32mi\u001b[32me\u001b[32mn\u001b[32mt\u001b[32ma\u001b[32mc\u001b[32mc\u001b[32me\u001b[32ms\u001b[32ms\u001b[32mp\u001b[32mo\u001b[32ml\u001b[32mi\u001b[32mc\u001b[32my\u001b[32m.\u001b[32mx\u001b[32mm\u001b[32ml\u001b[32m \u001b[32mH\u001b[32mT\u001b[32mT\u001b[32mP\u001b[32m/\u001b[30m1\u001b[30m.\u001b[32m1\u001b[32m\n",
      "\u001b[32mH\u001b[30mo\u001b[30ms\u001b[30mt\u001b[30m:\u001b[30m \u001b[30m1\u001b[30m0\u001b[30m.\u001b[30m0\u001b[30m.\u001b[30m2\u001b[30m1\u001b[30m2\u001b[30m.\u001b[30m2\u001b[30m5\u001b[30m\n",
      "\u001b[30mC\u001b[30mo\u001b[30mn\u001b[30mn\u001b[30me\u001b[30mc\u001b[30mt\u001b[30mi\u001b[30mo\u001b[30mn\u001b[30m:\u001b[30m \u001b[30mc\u001b[30ml\u001b[30mo\u001b[30ms\u001b[30me\u001b[32m<EOS>\u001b[30m\n",
      "\n",
      "Prediction:  1\n",
      "Loss  4.933769\n",
      "\u001b[32mD\u001b[30mE\u001b[32mB\u001b[32mU\u001b[32mG\u001b[32m \u001b[32m/\u001b[32mD\u001b[32me\u001b[32mf\u001b[32ma\u001b[32mu\u001b[32ml\u001b[32mt\u001b[30m.\u001b[32ma\u001b[32ms\u001b[32mp\u001b[32mx\u001b[32m \u001b[32mH\u001b[32mT\u001b[30mT\u001b[30mP\u001b[30m/\u001b[32m1\u001b[32m.\u001b[32m1\u001b[32m\n",
      "\u001b[32mH\u001b[30mo\u001b[30ms\u001b[30mt\u001b[30m:\u001b[30m \u001b[30m1\u001b[30m0\u001b[30m.\u001b[30m0\u001b[30m.\u001b[30m2\u001b[30m1\u001b[30m2\u001b[30m.\u001b[30m2\u001b[30m5\u001b[30m\n",
      "\u001b[30mC\u001b[30mo\u001b[32mm\u001b[32mm\u001b[32ma\u001b[30mn\u001b[32md\u001b[32m:\u001b[32m \u001b[32ms\u001b[32mt\u001b[32ma\u001b[32mr\u001b[32mt\u001b[32m-\u001b[32md\u001b[32me\u001b[32mb\u001b[32mu\u001b[32mg\u001b[30m\n",
      "\u001b[32mC\u001b[32mo\u001b[30mn\u001b[32mn\u001b[30me\u001b[30mc\u001b[30mt\u001b[30mi\u001b[30mo\u001b[30mn\u001b[30m:\u001b[30m \u001b[30mc\u001b[30ml\u001b[30mo\u001b[30ms\u001b[30me\u001b[32m<EOS>\u001b[30m"
     ]
    }
   ],
   "source": [
    "pred_data = Data(path_anomaly_data, predict=True)\n",
    "pred_gen = pred_data.predict_generator()\n",
    "anomaly_preds, anomaly_loss = p.predict(pred_gen)"
   ]
  },
  {
   "cell_type": "code",
   "execution_count": 10,
   "metadata": {},
   "outputs": [
    {
     "name": "stdout",
     "output_type": "stream",
     "text": [
      "Number of TP:  1096\n",
      "Number of samples:  1097\n",
      "TP rate: 0.9991\n"
     ]
    }
   ],
   "source": [
    "print('Number of TP: ', np.sum(anomaly_preds))\n",
    "print('Number of samples: ', len(anomaly_preds))\n",
    "print('TP rate: {:.4f}'.format(np.sum(anomaly_preds) / len(anomaly_preds)))"
   ]
  },
  {
   "cell_type": "markdown",
   "metadata": {},
   "source": [
    "# Testing\n",
    "To evaluate the results, let's compute metrics of quality: precision, recall, ROC-AUC."
   ]
  },
  {
   "cell_type": "code",
   "execution_count": 11,
   "metadata": {},
   "outputs": [],
   "source": [
    "y_true = np.concatenate(([0] * len(valid_preds), [1] * len(anomaly_preds)), axis=0)\n",
    "preds = np.concatenate((valid_preds, anomaly_preds), axis=0)\n",
    "loss_pred = np.concatenate((valid_loss, anomaly_loss), axis=0)\n",
    "assert len(y_true)==len(loss_pred)"
   ]
  },
  {
   "cell_type": "code",
   "execution_count": 12,
   "metadata": {},
   "outputs": [
    {
     "name": "stdout",
     "output_type": "stream",
     "text": [
      "Precision: 0.9946\n",
      "Recall: 0.9991\n"
     ]
    }
   ],
   "source": [
    "precision = precision_score(y_true, preds)\n",
    "recall = recall_score(y_true, preds)\n",
    "print('Precision: {:.4f}'.format(precision))\n",
    "print('Recall: {:.4f}'.format(recall))"
   ]
  },
  {
   "cell_type": "code",
   "execution_count": 13,
   "metadata": {},
   "outputs": [
    {
     "data": {
      "image/png": "[encoded data removed]",
      "text/plain": [
       "<Figure size 432x288 with 1 Axes>"
      ]
     },
     "metadata": {},
     "output_type": "display_data"
    }
   ],
   "source": [
    "fpr, tpr, _ = roc_curve(y_true, loss_pred)\n",
    "roc_auc = auc(fpr, tpr)\n",
    "\n",
    "plt.figure()\n",
    "plt.plot(fpr, tpr, label='ROC curve (area = %0.4f)' % roc_auc)\n",
    "plt.plot([0, 1], [0, 1], color='navy', linestyle='--')\n",
    "plt.xlim([-0.05, 1.0])\n",
    "plt.ylim([0.0, 1.05])\n",
    "plt.xlabel('False Positive Rate')\n",
    "plt.ylabel('True Positive Rate')\n",
    "plt.title('ROC curve')\n",
    "plt.legend(loc=\"lower right\")\n",
    "plt.show()"
   ]
  },
  {
   "cell_type": "code",
   "execution_count": null,
   "metadata": {},
   "outputs": [],
   "source": []
  }
 ],
 "metadata": {
  "kernelspec": {
   "display_name": "Environment (conda_tensorflow_p36)",
   "language": "python",
   "name": "conda_tensorflow_p36"
  },
  "language_info": {
   "codemirror_mode": {
    "name": "ipython",
    "version": 3
   },
   "file_extension": ".py",
   "mimetype": "text/x-python",
   "name": "python",
   "nbconvert_exporter": "python",
   "pygments_lexer": "ipython3",
   "version": "3.6.5"
  }
 },
 "nbformat": 4,
 "nbformat_minor": 2
}
